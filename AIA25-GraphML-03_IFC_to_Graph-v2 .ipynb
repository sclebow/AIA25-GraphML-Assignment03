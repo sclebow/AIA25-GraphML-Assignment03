{
 "cells": [
  {
   "cell_type": "markdown",
   "metadata": {
    "id": "V5eLGiVPERFb"
   },
   "source": [
    "# 1.Connect to google drive and install libraries"
   ]
  },
  {
   "cell_type": "code",
   "execution_count": 8,
   "metadata": {
    "id": "PhuZAh7Jwg5T"
   },
   "outputs": [],
   "source": [
    "import ifcopenshell\n",
    "import networkx as nx\n",
    "import plotly.graph_objects as go\n",
    "import pandas as pd"
   ]
  },
  {
   "cell_type": "markdown",
   "metadata": {
    "id": "BVZbVcfpxLYL"
   },
   "source": [
    "# 2. Extract data from IFC\n",
    "## 2.1. Utility Function"
   ]
  },
  {
   "cell_type": "markdown",
   "metadata": {
    "id": "Jx8kZS1DkBiY"
   },
   "source": [
    "### Introduction to IFC Structure (Industry Foundation Classes)\n",
    "\n",
    "**IFC (Industry Foundation Classes)** is a standardized data model used to describe building and construction industry data. It enables interoperability between different software applications in Building Information Modeling (BIM).\n",
    "\n",
    "At its core, an IFC file is made up of a large hierarchy of **entities**—objects like walls, doors, beams, or more abstract things like relationships and property sets. Each entity belongs to a specific **type**, e.g., `IfcWall`, `IfcDoor`, `IfcPropertySet`, and so on.\n",
    "\n",
    "Key concepts relevant to the function:\n",
    "\n",
    "- **IfcEntity:** A generic object in the IFC model. Each entity has basic properties such as GlobalId, Name, and Description.\n",
    "\n",
    "- **IfcRelDefinesByProperties:** A relationship that links an entity to a set of properties or quantities.\n",
    "\n",
    "- **IfcPropertySet:** A collection of properties (e.g., material, fire rating), where each property can be a single value (IfcPropertySingleValue).\n",
    "\n",
    "- **IfcElementQuantity:** Stores measurable quantities (e.g., length, area, volume) associated with the entity.\n",
    "\n",
    "- **wrappedValue:** A helper attribute used to access the actual value inside some IFC data types."
   ]
  },
  {
   "cell_type": "markdown",
   "metadata": {
    "id": "vcOzDTVcGGAP"
   },
   "source": [
    "```\n",
    "IFC Structure Overview (as used in extract_properties function)\n",
    "\n",
    "            +------------------------+\n",
    "            |      IfcEntity        |         (e.g., IfcWall, IfcDoor)\n",
    "            +------------------------+\n",
    "            | - GlobalId             |\n",
    "            | - Name                 |\n",
    "            | - Description          |\n",
    "            | - ObjectType           |\n",
    "            +------------------------+\n",
    "                      |\n",
    "                      | IsDefinedBy\n",
    "                      v\n",
    "        +-----------------------------+\n",
    "        |  IfcRelDefinesByProperties |\n",
    "        +-----------------------------+\n",
    "                      |\n",
    "                      | RelatingPropertyDefinition\n",
    "        +-----------------------------+\n",
    "        |       /             \\       |\n",
    "        v                             v\n",
    "+------------------+      +------------------------+\n",
    "|  IfcPropertySet  |      |  IfcElementQuantity    |\n",
    "+------------------+      +------------------------+\n",
    "| - HasProperties  |      | - Quantities           |\n",
    "+------------------+      +------------------------+\n",
    "        |                            |\n",
    "        v                            v\n",
    "\n",
    "+-------------------------+    +------------------------+\n",
    "| IfcPropertySingleValue  |    |   Quantity (Length,    |\n",
    "+-------------------------+    |    Area, Volume, ...)  |\n",
    "| - Name                  |    +------------------------+\n",
    "| - NominalValue          |    | - Name                 |\n",
    "|   - wrappedValue        |    | - Value (wrappedValue) |\n",
    "+-------------------------+    +------------------------+\n",
    "\n",
    "```\n"
   ]
  },
  {
   "cell_type": "code",
   "execution_count": 2,
   "metadata": {
    "id": "yZnlirKQxCAq"
   },
   "outputs": [],
   "source": [
    "def extract_properties(entity):\n",
    "    \"\"\"Extracts general properties and quantities from an IFC entity.\"\"\"\n",
    "    data = {\n",
    "        \"GlobalId\": entity.GlobalId,\n",
    "        \"Name\": entity.Name,  # Initialize with entity.Name\n",
    "        \"Description\": getattr(entity, \"Description\", None),\n",
    "        \"ObjectType\": getattr(entity, \"ObjectType\", None),\n",
    "        \"IfcType\": entity.is_a()\n",
    "    }\n",
    "\n",
    "    if data[\"Name\"] is None and hasattr(entity, \"IsDefinedBy\"):\n",
    "        for rel in entity.IsDefinedBy:\n",
    "            if rel.is_a(\"IfcRelDefinesByProperties\") and hasattr(rel, \"RelatingPropertyDefinition\"):\n",
    "                prop_def = rel.RelatingPropertyDefinition\n",
    "                if prop_def.is_a(\"IfcPropertySet\"):\n",
    "                    # Check if it's Pset_SpaceCommon\n",
    "                    if prop_def.Name == \"Pset_SpaceCommon\":\n",
    "                        for prop in prop_def.HasProperties:\n",
    "                            if prop.is_a(\"IfcPropertySingleValue\") and prop.Name == \"Name\":\n",
    "                                data[\"Name\"] = getattr(prop.NominalValue, \"wrappedValue\", None)\n",
    "                                break  # Stop searching if found\n",
    "                    else:  # Otherwise, try to find the name in other property sets\n",
    "                        for prop in prop_def.HasProperties:\n",
    "                            if prop.is_a(\"IfcPropertySingleValue\"):\n",
    "                                if prop.Name in [\"Name\", \"name\", \"LongName\", \"longname\"]:\n",
    "                                    data[\"Name\"] = getattr(prop.NominalValue, \"wrappedValue\", None)\n",
    "                                    break  # Stop searching if found\n",
    "                                property_value = getattr(prop.NominalValue, \"wrappedValue\", None)\n",
    "                                if property_value in [\"Name\", \"LongName\"]:\n",
    "                                    for inner_prop in prop_def.HasProperties:\n",
    "                                        if inner_prop.is_a(\"IfcPropertySingleValue\") and inner_prop.Name == property_value:\n",
    "                                            data[\"Name\"] = getattr(inner_prop.NominalValue, \"wrappedValue\", None)\n",
    "                                            break\n",
    "                                    break  # Stop searching if found\n",
    "    # Check if Name is still None and LongName is available\n",
    "    if data[\"Name\"] is None and hasattr(entity, 'LongName'):\n",
    "        data[\"Name\"] = entity.LongName  # Assign LongName to Name if Name is None\n",
    "\n",
    "    return data"
   ]
  },
  {
   "cell_type": "markdown",
   "metadata": {
    "id": "pfHmRC1Jnvb0"
   },
   "source": [
    "todo -> Location parameter!\n",
    "\n"
   ]
  },
  {
   "cell_type": "markdown",
   "metadata": {
    "id": "q0bw9O05xTG0"
   },
   "source": [
    "## 2.2. Load IFC File and Extract Data"
   ]
  },
  {
   "cell_type": "code",
   "execution_count": 30,
   "metadata": {
    "id": "bjpGx3SOxTxX"
   },
   "outputs": [],
   "source": [
    "ifc_file = ifcopenshell.open('scott_home_2.ifc')\n",
    "rooms = ifc_file.by_type(\"IfcSpace\")\n",
    "space_boundaries = ifc_file.by_type(\"IfcRelSpaceBoundary\")"
   ]
  },
  {
   "cell_type": "code",
   "execution_count": 31,
   "metadata": {
    "colab": {
     "base_uri": "https://localhost:8080/"
    },
    "executionInfo": {
     "elapsed": 73,
     "status": "ok",
     "timestamp": 1746526339373,
     "user": {
      "displayName": "David Andres Leon",
      "userId": "16329452066516455157"
     },
     "user_tz": -120
    },
    "id": "QDTb6KgexvLx",
    "outputId": "38990b4f-16b3-499f-c539-934a23390a13"
   },
   "outputs": [
    {
     "name": "stdout",
     "output_type": "stream",
     "text": [
      "Unique element types in space boundaries:\n",
      "- IfcDoor\n",
      "- IfcSlab\n",
      "- IfcWall\n",
      "- IfcWindow\n"
     ]
    }
   ],
   "source": [
    "# Identify element types in space boundaries\n",
    "element_types = set()\n",
    "for rel in space_boundaries:\n",
    "    if rel.RelatedBuildingElement:\n",
    "        element_types.add(rel.RelatedBuildingElement.is_a())\n",
    "\n",
    "print(\"Unique element types in space boundaries:\")\n",
    "for element_type in sorted(element_types):\n",
    "    print(\"-\", element_type)"
   ]
  },
  {
   "cell_type": "code",
   "execution_count": 32,
   "metadata": {
    "id": "HCl8SZImyiO8"
   },
   "outputs": [],
   "source": [
    "# Define categories and colors\n",
    "categories = {room.is_a(): \"red\" for room in rooms}\n",
    "for rel in space_boundaries:\n",
    "    if rel.RelatedBuildingElement:\n",
    "        categories.setdefault(\n",
    "            rel.RelatedBuildingElement.is_a(),\n",
    "            f\"#{hash(rel.RelatedBuildingElement.is_a()) & 0xFFFFFF:06x}\"\n",
    "        )\n",
    "\n",
    "def get_node_color(ifc_type):\n",
    "    \"\"\"Return a color based on the IFC type or default to gray.\"\"\"\n",
    "    return categories.get(ifc_type, \"gray\")"
   ]
  },
  {
   "cell_type": "markdown",
   "metadata": {
    "id": "zIOzB2IrxfGD"
   },
   "source": [
    "## 2.3. Build graph"
   ]
  },
  {
   "cell_type": "markdown",
   "metadata": {
    "id": "OFWFBCSzkqwU"
   },
   "source": [
    "**RDF (Resource Description Framework)** represents data as triples: subject, predicate, and object. It’s commonly used in the Semantic Web to maintain a universal, flexible model of linked data. Relationships are defined via standardized vocabularies (e.g., RDF Schema, OWL), enabling robust data integration and inference across different domains.\n",
    "\n",
    "**LPG (Labeled Property Graph)** organizes data into nodes (entities) and edges (relationships), both of which can have labels and properties. This approach is popular in many graph databases for direct, application-focused queries (often using query languages like Cypher). It’s simpler to model certain graph use cases without the semantic overhead of RDF vocabularies.\n",
    "\n",
    "Our workflow is based on **Labeled Property Graph**"
   ]
  },
  {
   "cell_type": "code",
   "execution_count": 33,
   "metadata": {
    "id": "tcaBiQrrxV5g"
   },
   "outputs": [],
   "source": [
    "G = nx.Graph()\n",
    "\n",
    "# Add Rooms\n",
    "for room in rooms:\n",
    "    room_id = room.GlobalId\n",
    "    G.add_node(room_id, **extract_properties(room), category=\"IfcSpace\")\n",
    "\n",
    "# Add Room-Element Connections\n",
    "#    (Any building element bounding a room goes here with 'SURROUNDS'.)\n",
    "for rel in space_boundaries:\n",
    "    room = rel.RelatingSpace\n",
    "    element = rel.RelatedBuildingElement\n",
    "    if room and element:\n",
    "        if element.GlobalId not in G.nodes:\n",
    "            G.add_node(element.GlobalId, **extract_properties(element), category=element.is_a())\n",
    "        # Connect the room to this element\n",
    "        G.add_edge(room.GlobalId, element.GlobalId, relation=\"SURROUNDS\")\n",
    "\n",
    "# Add Wall-Window/Door Connections\n",
    "#    (Direct 'VOIDS' edge from IfcWall* types to IfcDoor or IfcWindow.)\n",
    "for rel in ifc_file.by_type(\"IfcRelVoidsElement\"):\n",
    "    wall = rel.RelatingBuildingElement\n",
    "    opening = rel.RelatedOpeningElement\n",
    "\n",
    "    for fill_rel in ifc_file.by_type(\"IfcRelFillsElement\"):\n",
    "        if fill_rel.RelatingOpeningElement == opening:\n",
    "            filled_element = fill_rel.RelatedBuildingElement\n",
    "            # Strict check: IfcWall*, IfcWallStandardCase, IfcCurtainWall --> [IfcDoor | IfcWindow]\n",
    "            if (\n",
    "                wall\n",
    "                and filled_element\n",
    "                and \"Wall\" in wall.is_a()\n",
    "                and filled_element.is_a() in [\"IfcDoor\", \"IfcWindow\"]\n",
    "            ):\n",
    "                # Ensure both nodes (Wall + Door/Window) exist in the graph\n",
    "                if wall.GlobalId not in G.nodes:\n",
    "                    G.add_node(wall.GlobalId, **extract_properties(wall), category=wall.is_a())\n",
    "                if filled_element.GlobalId not in G.nodes:\n",
    "                    G.add_node(filled_element.GlobalId, **extract_properties(filled_element), category=filled_element.is_a())\n",
    "\n",
    "                # Create a direct connection for the wall-door/window\n",
    "                # print(f\"VOIDS edge found: {wall.GlobalId} -> {filled_element.GlobalId}\")\n",
    "                G.add_edge(wall.GlobalId, filled_element.GlobalId, relation=\"VOIDS\")\n"
   ]
  },
  {
   "cell_type": "markdown",
   "metadata": {
    "id": "qgoKKqKsxi8j"
   },
   "source": [
    "## 2.4. Generate 3D Layout and Visualization"
   ]
  },
  {
   "cell_type": "code",
   "execution_count": 34,
   "metadata": {
    "colab": {
     "base_uri": "https://localhost:8080/",
     "height": 817
    },
    "executionInfo": {
     "elapsed": 31897,
     "status": "ok",
     "timestamp": 1746526390662,
     "user": {
      "displayName": "David Andres Leon",
      "userId": "16329452066516455157"
     },
     "user_tz": -120
    },
    "id": "GXGYF59_Zy60",
    "outputId": "b231bcb6-71a2-48e5-b8ce-86c2b2e89acd"
   },
   "outputs": [],
   "source": [
    "# Remove unconnected nodes\n",
    "unconnected_nodes = [node for node, degree in G.degree() if degree == 0]\n",
    "G.remove_nodes_from(unconnected_nodes)\n",
    "\n",
    "# Recalculate layout (3D)\n",
    "pos = nx.spring_layout(G, dim=3, seed=42)\n",
    "\n",
    "# Extract updated node positions and colors\n",
    "x_nodes, y_nodes, z_nodes = zip(*[pos[node] for node in G.nodes])\n",
    "colors = [get_node_color(G.nodes[node].get(\"IfcType\", \"Undefined\")) for node in G.nodes]\n",
    "\n",
    "# Separate edge coordinates by relation type\n",
    "voids_x, voids_y, voids_z = [], [], []\n",
    "surrounds_x, surrounds_y, surrounds_z = [], [], []\n",
    "other_x, other_y, other_z = [], [], []\n",
    "\n",
    "for u, v, data in G.edges(data=True):\n",
    "    x0, y0, z0 = pos[u]\n",
    "    x1, y1, z1 = pos[v]\n",
    "\n",
    "    # Add coordinates in Plotly \"line segment\" style: [x0, x1, None] so lines don't connect across edges\n",
    "    if data.get(\"relation\") == \"VOIDS\":\n",
    "        voids_x.extend([x0, x1, None])\n",
    "        voids_y.extend([y0, y1, None])\n",
    "        voids_z.extend([z0, z1, None])\n",
    "    elif data.get(\"relation\") == \"SURROUNDS\":\n",
    "        surrounds_x.extend([x0, x1, None])\n",
    "        surrounds_y.extend([y0, y1, None])\n",
    "        surrounds_z.extend([z0, z1, None])\n",
    "    else:\n",
    "        other_x.extend([x0, x1, None])\n",
    "        other_y.extend([y0, y1, None])\n",
    "        other_z.extend([z0, z1, None])\n",
    "\n",
    "# Create separate edge traces\n",
    "voids_trace = go.Scatter3d(\n",
    "    x=voids_x, y=voids_y, z=voids_z,\n",
    "    mode='lines',\n",
    "    line=dict(width=2, color='red'),\n",
    "    hoverinfo='none'\n",
    ")\n",
    "\n",
    "surrounds_trace = go.Scatter3d(\n",
    "    x=surrounds_x, y=surrounds_y, z=surrounds_z,\n",
    "    mode='lines',\n",
    "    line=dict(width=2, color='gray'),\n",
    "    opacity=0.5,\n",
    "    hoverinfo='none'\n",
    ")\n",
    "\n",
    "other_trace = go.Scatter3d(\n",
    "    x=other_x, y=other_y, z=other_z,\n",
    "    mode='lines',\n",
    "    line=dict(width=2, color='lightgray'),\n",
    "    hoverinfo='none'\n",
    ")\n",
    "\n",
    "# Create the node trace\n",
    "node_trace = go.Scatter3d(\n",
    "    x=x_nodes, y=y_nodes, z=z_nodes,\n",
    "    mode='markers',\n",
    "    marker=dict(size=5, color=colors, opacity=0.8),\n",
    "    text=[\n",
    "        f\"{G.nodes[node].get('Name', 'N/A')} (\" \\\n",
    "        f\"{G.nodes[node].get('IfcType', 'Undefined')})\"\n",
    "        for node in G.nodes\n",
    "    ],\n",
    "    hoverinfo='text'\n",
    ")\n",
    "\n",
    "# Build figure\n",
    "layout = go.Layout(\n",
    "    title=\"3D IFC Wall-Door/Window Visualization\",\n",
    "    width=1200, height=800,\n",
    "    scene=dict(xaxis=dict(title='X'),\n",
    "               yaxis=dict(title='Y'),\n",
    "               zaxis=dict(title='Z')),\n",
    "    showlegend=False\n",
    ")\n",
    "\n",
    "fig = go.Figure(\n",
    "    data=[voids_trace, surrounds_trace, other_trace, node_trace],\n",
    "    layout=layout\n",
    ")\n",
    "# fig.show()\n"
   ]
  },
  {
   "cell_type": "markdown",
   "metadata": {
    "id": "W-70zWCMoWcZ"
   },
   "source": [
    "todo -> Location parameter!"
   ]
  },
  {
   "cell_type": "markdown",
   "metadata": {
    "id": "fLeaMtnxZy61"
   },
   "source": [
    "## 2.5. Plot IfcWalls and IfcDoors/IfcWindows connections"
   ]
  },
  {
   "cell_type": "code",
   "execution_count": 35,
   "metadata": {
    "colab": {
     "base_uri": "https://localhost:8080/",
     "height": 817
    },
    "executionInfo": {
     "elapsed": 30248,
     "status": "ok",
     "timestamp": 1746465710619,
     "user": {
      "displayName": "David Andres Leon",
      "userId": "16329452066516455157"
     },
     "user_tz": -120
    },
    "id": "ttYrwJAlZy61",
    "outputId": "fc02a4d3-ebd6-4fbd-b769-81f3f77edb55"
   },
   "outputs": [],
   "source": [
    "# Remove unconnected nodes\n",
    "unconnected_nodes = [node for node, degree in G.degree() if degree == 0]\n",
    "G.remove_nodes_from(unconnected_nodes)\n",
    "\n",
    "# Recalculate layout (3D)\n",
    "pos = nx.spring_layout(G, dim=3, seed=42)\n",
    "\n",
    "# Extract node positions and colors (only for Walls, Doors, Windows)\n",
    "wall_door_window_nodes = [\n",
    "    node\n",
    "    for node in G.nodes\n",
    "    if G.nodes[node].get(\"IfcType\") in [\n",
    "        \"IfcWall\", \"IfcDoor\", \"IfcWindow\"\n",
    "    ]\n",
    "]\n",
    "\n",
    "x_nodes, y_nodes, z_nodes = zip(*[pos[node] for node in wall_door_window_nodes])\n",
    "colors = [\n",
    "    get_node_color(G.nodes[node].get(\"IfcType\", \"Undefined\"))\n",
    "    for node in wall_door_window_nodes\n",
    "]\n",
    "\n",
    "# Separate edge coordinates by relation type\n",
    "voids_x, voids_y, voids_z = [], [], []\n",
    "surrounds_x, surrounds_y, surrounds_z = [], [], []\n",
    "other_x, other_y, other_z = [], [], []\n",
    "\n",
    "for u, v, data in G.edges(data=True):\n",
    "    x0, y0, z0 = pos[u]\n",
    "    x1, y1, z1 = pos[v]\n",
    "\n",
    "    # Add coordinates in Plotly \"line segment\" style: [x0, x1, None] so lines don't connect across edges\n",
    "    if data.get(\"relation\") == \"VOIDS\":\n",
    "        voids_x.extend([x0, x1, None])\n",
    "        voids_y.extend([y0, y1, None])\n",
    "        voids_z.extend([z0, z1, None])\n",
    "    elif data.get(\"relation\") == \"SURROUNDS\":\n",
    "        surrounds_x.extend([x0, x1, None])\n",
    "        surrounds_y.extend([y0, y1, None])\n",
    "        surrounds_z.extend([z0, z1, None])\n",
    "    else:\n",
    "        other_x.extend([x0, x1, None])\n",
    "        other_y.extend([y0, y1, None])\n",
    "        other_z.extend([z0, z1, None])\n",
    "\n",
    "# Create separate edge traces\n",
    "voids_trace = go.Scatter3d(\n",
    "    x=voids_x, y=voids_y, z=voids_z,\n",
    "    mode='lines',\n",
    "    line=dict(width=2, color='red'),\n",
    "    hoverinfo='none'\n",
    ")\n",
    "\n",
    "surrounds_trace = go.Scatter3d(\n",
    "    x=surrounds_x, y=surrounds_y, z=surrounds_z,\n",
    "    mode='lines',\n",
    "    line=dict(width=2, color='gray'),\n",
    "    opacity=0.05,\n",
    "    hoverinfo='none'\n",
    ")\n",
    "\n",
    "other_trace = go.Scatter3d(\n",
    "    x=other_x, y=other_y, z=other_z,\n",
    "    mode='lines',\n",
    "    line=dict(width=2, color='lightgray'),\n",
    "    hoverinfo='none'\n",
    ")\n",
    "\n",
    "# Create the node trace\n",
    "node_trace = go.Scatter3d(\n",
    "    x=x_nodes, y=y_nodes, z=z_nodes,\n",
    "    mode='markers',\n",
    "    marker=dict(size=5, color=colors, opacity=0.8),\n",
    "    text=[\n",
    "        f\"{G.nodes[node].get('Name', 'N/A')} (\" \\\n",
    "        f\"{G.nodes[node].get('IfcType', 'Undefined')})\"\n",
    "        for node in wall_door_window_nodes\n",
    "    ],\n",
    "    hoverinfo='text'\n",
    ")\n",
    "\n",
    "#  Build figure\n",
    "layout = go.Layout(\n",
    "    title=\"3D IFC Wall-Door/Window Visualization\",\n",
    "    width=1200, height=800,\n",
    "    scene=dict(xaxis=dict(title='X'),\n",
    "               yaxis=dict(title='Y'),\n",
    "               zaxis=dict(title='Z')),\n",
    "    showlegend=False\n",
    ")\n",
    "\n",
    "fig = go.Figure(\n",
    "    data=[voids_trace, surrounds_trace, other_trace, node_trace],\n",
    "    layout=layout\n",
    ")\n",
    "# fig.show()\n"
   ]
  },
  {
   "cell_type": "markdown",
   "metadata": {
    "id": "vIaY3Wj6zycA"
   },
   "source": [
    "## 2.6. Data check\n",
    "\n",
    "Check and clean data to avoid duplicates!"
   ]
  },
  {
   "cell_type": "code",
   "execution_count": 36,
   "metadata": {
    "id": "gq11-5gbxl3A"
   },
   "outputs": [],
   "source": [
    "nodes = pd.DataFrame.from_dict(dict(G.nodes(data=True)), orient='index')"
   ]
  },
  {
   "cell_type": "code",
   "execution_count": 37,
   "metadata": {
    "colab": {
     "base_uri": "https://localhost:8080/",
     "height": 424
    },
    "executionInfo": {
     "elapsed": 81,
     "status": "ok",
     "timestamp": 1746526457582,
     "user": {
      "displayName": "David Andres Leon",
      "userId": "16329452066516455157"
     },
     "user_tz": -120
    },
    "id": "Dp5yFHiJgbQr",
    "outputId": "9b2609ed-37c1-47e9-cba2-94171a3a996a"
   },
   "outputs": [
    {
     "data": {
      "text/html": [
       "<div>\n",
       "<style scoped>\n",
       "    .dataframe tbody tr th:only-of-type {\n",
       "        vertical-align: middle;\n",
       "    }\n",
       "\n",
       "    .dataframe tbody tr th {\n",
       "        vertical-align: top;\n",
       "    }\n",
       "\n",
       "    .dataframe thead th {\n",
       "        text-align: right;\n",
       "    }\n",
       "</style>\n",
       "<table border=\"1\" class=\"dataframe\">\n",
       "  <thead>\n",
       "    <tr style=\"text-align: right;\">\n",
       "      <th></th>\n",
       "      <th>GlobalId</th>\n",
       "      <th>Name</th>\n",
       "      <th>Description</th>\n",
       "      <th>ObjectType</th>\n",
       "      <th>IfcType</th>\n",
       "      <th>category</th>\n",
       "    </tr>\n",
       "  </thead>\n",
       "  <tbody>\n",
       "    <tr>\n",
       "      <th>3q7Twobe9ENvh43NYJYCkZ</th>\n",
       "      <td>3q7Twobe9ENvh43NYJYCkZ</td>\n",
       "      <td>LEVEL_1</td>\n",
       "      <td>None</td>\n",
       "      <td>None</td>\n",
       "      <td>IfcSpace</td>\n",
       "      <td>IfcSpace</td>\n",
       "    </tr>\n",
       "    <tr>\n",
       "      <th>33GCg72APAegkpE39K6OCT</th>\n",
       "      <td>33GCg72APAegkpE39K6OCT</td>\n",
       "      <td>slab</td>\n",
       "      <td>None</td>\n",
       "      <td>None</td>\n",
       "      <td>IfcSlab</td>\n",
       "      <td>IfcSlab</td>\n",
       "    </tr>\n",
       "    <tr>\n",
       "      <th>15ttRC7BL7Ngs5NHJr5Ynb</th>\n",
       "      <td>15ttRC7BL7Ngs5NHJr5Ynb</td>\n",
       "      <td>wall_1</td>\n",
       "      <td>None</td>\n",
       "      <td>None</td>\n",
       "      <td>IfcWall</td>\n",
       "      <td>IfcWall</td>\n",
       "    </tr>\n",
       "    <tr>\n",
       "      <th>3jHerqfRDEbB68GwT$MLmP</th>\n",
       "      <td>3jHerqfRDEbB68GwT$MLmP</td>\n",
       "      <td>wall_1</td>\n",
       "      <td>None</td>\n",
       "      <td>None</td>\n",
       "      <td>IfcWall</td>\n",
       "      <td>IfcWall</td>\n",
       "    </tr>\n",
       "    <tr>\n",
       "      <th>2G21b5UMHFNB45OoEIXvNO</th>\n",
       "      <td>2G21b5UMHFNB45OoEIXvNO</td>\n",
       "      <td>wall_1</td>\n",
       "      <td>None</td>\n",
       "      <td>None</td>\n",
       "      <td>IfcWall</td>\n",
       "      <td>IfcWall</td>\n",
       "    </tr>\n",
       "    <tr>\n",
       "      <th>1LfjqzwfXEHh5CANx8rM4X</th>\n",
       "      <td>1LfjqzwfXEHh5CANx8rM4X</td>\n",
       "      <td>wall_1</td>\n",
       "      <td>None</td>\n",
       "      <td>None</td>\n",
       "      <td>IfcWall</td>\n",
       "      <td>IfcWall</td>\n",
       "    </tr>\n",
       "    <tr>\n",
       "      <th>04snYQkcbEGfjItRCcaWig</th>\n",
       "      <td>04snYQkcbEGfjItRCcaWig</td>\n",
       "      <td>wall_1</td>\n",
       "      <td>None</td>\n",
       "      <td>None</td>\n",
       "      <td>IfcWall</td>\n",
       "      <td>IfcWall</td>\n",
       "    </tr>\n",
       "    <tr>\n",
       "      <th>24EAjVia58eBxT8G8zKI9s</th>\n",
       "      <td>24EAjVia58eBxT8G8zKI9s</td>\n",
       "      <td>wall_1</td>\n",
       "      <td>None</td>\n",
       "      <td>None</td>\n",
       "      <td>IfcWall</td>\n",
       "      <td>IfcWall</td>\n",
       "    </tr>\n",
       "    <tr>\n",
       "      <th>0_$8hcBNr8OhV23ievP0wA</th>\n",
       "      <td>0_$8hcBNr8OhV23ievP0wA</td>\n",
       "      <td>wall_1</td>\n",
       "      <td>None</td>\n",
       "      <td>None</td>\n",
       "      <td>IfcWall</td>\n",
       "      <td>IfcWall</td>\n",
       "    </tr>\n",
       "    <tr>\n",
       "      <th>00aB8euCbDg81JtJMGNNA_</th>\n",
       "      <td>00aB8euCbDg81JtJMGNNA_</td>\n",
       "      <td>wall_1</td>\n",
       "      <td>None</td>\n",
       "      <td>None</td>\n",
       "      <td>IfcWall</td>\n",
       "      <td>IfcWall</td>\n",
       "    </tr>\n",
       "    <tr>\n",
       "      <th>3B_ML7UFLBuwqdA5kOJ8Ed</th>\n",
       "      <td>3B_ML7UFLBuwqdA5kOJ8Ed</td>\n",
       "      <td>wall_1</td>\n",
       "      <td>None</td>\n",
       "      <td>None</td>\n",
       "      <td>IfcWall</td>\n",
       "      <td>IfcWall</td>\n",
       "    </tr>\n",
       "    <tr>\n",
       "      <th>15pNyDx8bDVOMdEq_VJEZu</th>\n",
       "      <td>15pNyDx8bDVOMdEq_VJEZu</td>\n",
       "      <td>wall_1</td>\n",
       "      <td>None</td>\n",
       "      <td>None</td>\n",
       "      <td>IfcWall</td>\n",
       "      <td>IfcWall</td>\n",
       "    </tr>\n",
       "    <tr>\n",
       "      <th>3O4BSWjPDCYeBvy758Zgku</th>\n",
       "      <td>3O4BSWjPDCYeBvy758Zgku</td>\n",
       "      <td>wall_1</td>\n",
       "      <td>None</td>\n",
       "      <td>None</td>\n",
       "      <td>IfcWall</td>\n",
       "      <td>IfcWall</td>\n",
       "    </tr>\n",
       "    <tr>\n",
       "      <th>0qYIMIVsD25vvwv_71Oj4a</th>\n",
       "      <td>0qYIMIVsD25vvwv_71Oj4a</td>\n",
       "      <td>wall_1</td>\n",
       "      <td>None</td>\n",
       "      <td>None</td>\n",
       "      <td>IfcWall</td>\n",
       "      <td>IfcWall</td>\n",
       "    </tr>\n",
       "    <tr>\n",
       "      <th>19gvT7BIz4je6RwCWKdkpV</th>\n",
       "      <td>19gvT7BIz4je6RwCWKdkpV</td>\n",
       "      <td>wall_1</td>\n",
       "      <td>None</td>\n",
       "      <td>None</td>\n",
       "      <td>IfcWall</td>\n",
       "      <td>IfcWall</td>\n",
       "    </tr>\n",
       "    <tr>\n",
       "      <th>1hwjNFfG590hKjpC3ULvBZ</th>\n",
       "      <td>1hwjNFfG590hKjpC3ULvBZ</td>\n",
       "      <td>wall_1</td>\n",
       "      <td>None</td>\n",
       "      <td>None</td>\n",
       "      <td>IfcWall</td>\n",
       "      <td>IfcWall</td>\n",
       "    </tr>\n",
       "    <tr>\n",
       "      <th>3ZH_BlG559BvSGnllHkZ1r</th>\n",
       "      <td>3ZH_BlG559BvSGnllHkZ1r</td>\n",
       "      <td>wall_1</td>\n",
       "      <td>None</td>\n",
       "      <td>None</td>\n",
       "      <td>IfcWall</td>\n",
       "      <td>IfcWall</td>\n",
       "    </tr>\n",
       "    <tr>\n",
       "      <th>1B5GW8bDfBR88IZtJ4l7rM</th>\n",
       "      <td>1B5GW8bDfBR88IZtJ4l7rM</td>\n",
       "      <td>wall_1</td>\n",
       "      <td>None</td>\n",
       "      <td>None</td>\n",
       "      <td>IfcWall</td>\n",
       "      <td>IfcWall</td>\n",
       "    </tr>\n",
       "    <tr>\n",
       "      <th>1JF_u8IxbARR3hSfVOgX$C</th>\n",
       "      <td>1JF_u8IxbARR3hSfVOgX$C</td>\n",
       "      <td>wall_1</td>\n",
       "      <td>None</td>\n",
       "      <td>None</td>\n",
       "      <td>IfcWall</td>\n",
       "      <td>IfcWall</td>\n",
       "    </tr>\n",
       "    <tr>\n",
       "      <th>2YPbDz0WD0oxofUUDsKkts</th>\n",
       "      <td>2YPbDz0WD0oxofUUDsKkts</td>\n",
       "      <td>wall_1</td>\n",
       "      <td>None</td>\n",
       "      <td>None</td>\n",
       "      <td>IfcWall</td>\n",
       "      <td>IfcWall</td>\n",
       "    </tr>\n",
       "    <tr>\n",
       "      <th>3bX50btATAou_MUYM4z34n</th>\n",
       "      <td>3bX50btATAou_MUYM4z34n</td>\n",
       "      <td>wall_1</td>\n",
       "      <td>None</td>\n",
       "      <td>None</td>\n",
       "      <td>IfcWall</td>\n",
       "      <td>IfcWall</td>\n",
       "    </tr>\n",
       "    <tr>\n",
       "      <th>1edf6Vb2P5GOyqGF13DXEn</th>\n",
       "      <td>1edf6Vb2P5GOyqGF13DXEn</td>\n",
       "      <td>wall_1</td>\n",
       "      <td>None</td>\n",
       "      <td>None</td>\n",
       "      <td>IfcWall</td>\n",
       "      <td>IfcWall</td>\n",
       "    </tr>\n",
       "    <tr>\n",
       "      <th>24NptVKQz2d9RijWMt_Tzg</th>\n",
       "      <td>24NptVKQz2d9RijWMt_Tzg</td>\n",
       "      <td>wall_1</td>\n",
       "      <td>None</td>\n",
       "      <td>None</td>\n",
       "      <td>IfcWall</td>\n",
       "      <td>IfcWall</td>\n",
       "    </tr>\n",
       "    <tr>\n",
       "      <th>3ZUM$pUFr0iuRbE09VLT4x</th>\n",
       "      <td>3ZUM$pUFr0iuRbE09VLT4x</td>\n",
       "      <td>wall_1</td>\n",
       "      <td>None</td>\n",
       "      <td>None</td>\n",
       "      <td>IfcWall</td>\n",
       "      <td>IfcWall</td>\n",
       "    </tr>\n",
       "    <tr>\n",
       "      <th>0iAxOR9jT9Ix4CuHLlC6UA</th>\n",
       "      <td>0iAxOR9jT9Ix4CuHLlC6UA</td>\n",
       "      <td>wall_1</td>\n",
       "      <td>None</td>\n",
       "      <td>None</td>\n",
       "      <td>IfcWall</td>\n",
       "      <td>IfcWall</td>\n",
       "    </tr>\n",
       "    <tr>\n",
       "      <th>137_gUaLPB6OGv1ftxP$N6</th>\n",
       "      <td>137_gUaLPB6OGv1ftxP$N6</td>\n",
       "      <td>wall_1</td>\n",
       "      <td>None</td>\n",
       "      <td>None</td>\n",
       "      <td>IfcWall</td>\n",
       "      <td>IfcWall</td>\n",
       "    </tr>\n",
       "    <tr>\n",
       "      <th>2ZaSsznfrElwB5aAESSDoz</th>\n",
       "      <td>2ZaSsznfrElwB5aAESSDoz</td>\n",
       "      <td>wall_1</td>\n",
       "      <td>None</td>\n",
       "      <td>None</td>\n",
       "      <td>IfcWall</td>\n",
       "      <td>IfcWall</td>\n",
       "    </tr>\n",
       "    <tr>\n",
       "      <th>3YXhOHb5f4Eu$2Kob3lYjh</th>\n",
       "      <td>3YXhOHb5f4Eu$2Kob3lYjh</td>\n",
       "      <td>wall_1</td>\n",
       "      <td>None</td>\n",
       "      <td>None</td>\n",
       "      <td>IfcWall</td>\n",
       "      <td>IfcWall</td>\n",
       "    </tr>\n",
       "    <tr>\n",
       "      <th>23x1vCYWPC1Pnv7k_zxwYx</th>\n",
       "      <td>23x1vCYWPC1Pnv7k_zxwYx</td>\n",
       "      <td>window_1</td>\n",
       "      <td>None</td>\n",
       "      <td>None</td>\n",
       "      <td>IfcWindow</td>\n",
       "      <td>IfcWindow</td>\n",
       "    </tr>\n",
       "    <tr>\n",
       "      <th>03evn2mrrB1edb4jEbE61m</th>\n",
       "      <td>03evn2mrrB1edb4jEbE61m</td>\n",
       "      <td>window_1</td>\n",
       "      <td>None</td>\n",
       "      <td>None</td>\n",
       "      <td>IfcWindow</td>\n",
       "      <td>IfcWindow</td>\n",
       "    </tr>\n",
       "    <tr>\n",
       "      <th>1GW3W0N9L6_Qg_7Iw0TTAZ</th>\n",
       "      <td>1GW3W0N9L6_Qg_7Iw0TTAZ</td>\n",
       "      <td>window_1</td>\n",
       "      <td>None</td>\n",
       "      <td>None</td>\n",
       "      <td>IfcWindow</td>\n",
       "      <td>IfcWindow</td>\n",
       "    </tr>\n",
       "    <tr>\n",
       "      <th>2S$xe5ad54xQKuBm5cRPKq</th>\n",
       "      <td>2S$xe5ad54xQKuBm5cRPKq</td>\n",
       "      <td>window_1</td>\n",
       "      <td>None</td>\n",
       "      <td>None</td>\n",
       "      <td>IfcWindow</td>\n",
       "      <td>IfcWindow</td>\n",
       "    </tr>\n",
       "    <tr>\n",
       "      <th>1FZTcNrtf5LRl6e7EVXelg</th>\n",
       "      <td>1FZTcNrtf5LRl6e7EVXelg</td>\n",
       "      <td>window_1</td>\n",
       "      <td>None</td>\n",
       "      <td>None</td>\n",
       "      <td>IfcWindow</td>\n",
       "      <td>IfcWindow</td>\n",
       "    </tr>\n",
       "    <tr>\n",
       "      <th>3xsTAnL_rDNglIhOSxZ_5r</th>\n",
       "      <td>3xsTAnL_rDNglIhOSxZ_5r</td>\n",
       "      <td>window_1</td>\n",
       "      <td>None</td>\n",
       "      <td>None</td>\n",
       "      <td>IfcWindow</td>\n",
       "      <td>IfcWindow</td>\n",
       "    </tr>\n",
       "    <tr>\n",
       "      <th>2NdMjLqqvD7v3MH9EPruqJ</th>\n",
       "      <td>2NdMjLqqvD7v3MH9EPruqJ</td>\n",
       "      <td>window_1</td>\n",
       "      <td>None</td>\n",
       "      <td>None</td>\n",
       "      <td>IfcWindow</td>\n",
       "      <td>IfcWindow</td>\n",
       "    </tr>\n",
       "    <tr>\n",
       "      <th>3qjUa4XRn3ixgeKRIomOnW</th>\n",
       "      <td>3qjUa4XRn3ixgeKRIomOnW</td>\n",
       "      <td>None</td>\n",
       "      <td>None</td>\n",
       "      <td>None</td>\n",
       "      <td>IfcDoor</td>\n",
       "      <td>IfcDoor</td>\n",
       "    </tr>\n",
       "    <tr>\n",
       "      <th>2zrN0YFkv6N8YWaAf45CZl</th>\n",
       "      <td>2zrN0YFkv6N8YWaAf45CZl</td>\n",
       "      <td>None</td>\n",
       "      <td>None</td>\n",
       "      <td>None</td>\n",
       "      <td>IfcDoor</td>\n",
       "      <td>IfcDoor</td>\n",
       "    </tr>\n",
       "    <tr>\n",
       "      <th>19OJ5fjWD2wxQC8RymYb7z</th>\n",
       "      <td>19OJ5fjWD2wxQC8RymYb7z</td>\n",
       "      <td>None</td>\n",
       "      <td>None</td>\n",
       "      <td>None</td>\n",
       "      <td>IfcDoor</td>\n",
       "      <td>IfcDoor</td>\n",
       "    </tr>\n",
       "    <tr>\n",
       "      <th>0oEMWIyxjCeAkkIBzSoB6K</th>\n",
       "      <td>0oEMWIyxjCeAkkIBzSoB6K</td>\n",
       "      <td>None</td>\n",
       "      <td>None</td>\n",
       "      <td>None</td>\n",
       "      <td>IfcDoor</td>\n",
       "      <td>IfcDoor</td>\n",
       "    </tr>\n",
       "    <tr>\n",
       "      <th>2tEguBNoTC7f121Fpu7QWl</th>\n",
       "      <td>2tEguBNoTC7f121Fpu7QWl</td>\n",
       "      <td>None</td>\n",
       "      <td>None</td>\n",
       "      <td>None</td>\n",
       "      <td>IfcDoor</td>\n",
       "      <td>IfcDoor</td>\n",
       "    </tr>\n",
       "    <tr>\n",
       "      <th>3vDx2qvjz9$hgHLtsb$oI5</th>\n",
       "      <td>3vDx2qvjz9$hgHLtsb$oI5</td>\n",
       "      <td>None</td>\n",
       "      <td>None</td>\n",
       "      <td>None</td>\n",
       "      <td>IfcDoor</td>\n",
       "      <td>IfcDoor</td>\n",
       "    </tr>\n",
       "    <tr>\n",
       "      <th>3zaDEyYpr0vxGR5WWEE5O0</th>\n",
       "      <td>3zaDEyYpr0vxGR5WWEE5O0</td>\n",
       "      <td>None</td>\n",
       "      <td>None</td>\n",
       "      <td>None</td>\n",
       "      <td>IfcDoor</td>\n",
       "      <td>IfcDoor</td>\n",
       "    </tr>\n",
       "    <tr>\n",
       "      <th>07Yp1ohUX7wesC0y4Q_cvr</th>\n",
       "      <td>07Yp1ohUX7wesC0y4Q_cvr</td>\n",
       "      <td>None</td>\n",
       "      <td>None</td>\n",
       "      <td>None</td>\n",
       "      <td>IfcDoor</td>\n",
       "      <td>IfcDoor</td>\n",
       "    </tr>\n",
       "    <tr>\n",
       "      <th>0EuooOE7bA1x4VmKnYSR4u</th>\n",
       "      <td>0EuooOE7bA1x4VmKnYSR4u</td>\n",
       "      <td>None</td>\n",
       "      <td>None</td>\n",
       "      <td>None</td>\n",
       "      <td>IfcDoor</td>\n",
       "      <td>IfcDoor</td>\n",
       "    </tr>\n",
       "    <tr>\n",
       "      <th>2Zzn$FcnjFt8vTHwYtfFLz</th>\n",
       "      <td>2Zzn$FcnjFt8vTHwYtfFLz</td>\n",
       "      <td>None</td>\n",
       "      <td>None</td>\n",
       "      <td>None</td>\n",
       "      <td>IfcDoor</td>\n",
       "      <td>IfcDoor</td>\n",
       "    </tr>\n",
       "  </tbody>\n",
       "</table>\n",
       "</div>"
      ],
      "text/plain": [
       "                                      GlobalId      Name Description  \\\n",
       "3q7Twobe9ENvh43NYJYCkZ  3q7Twobe9ENvh43NYJYCkZ   LEVEL_1        None   \n",
       "33GCg72APAegkpE39K6OCT  33GCg72APAegkpE39K6OCT      slab        None   \n",
       "15ttRC7BL7Ngs5NHJr5Ynb  15ttRC7BL7Ngs5NHJr5Ynb    wall_1        None   \n",
       "3jHerqfRDEbB68GwT$MLmP  3jHerqfRDEbB68GwT$MLmP    wall_1        None   \n",
       "2G21b5UMHFNB45OoEIXvNO  2G21b5UMHFNB45OoEIXvNO    wall_1        None   \n",
       "1LfjqzwfXEHh5CANx8rM4X  1LfjqzwfXEHh5CANx8rM4X    wall_1        None   \n",
       "04snYQkcbEGfjItRCcaWig  04snYQkcbEGfjItRCcaWig    wall_1        None   \n",
       "24EAjVia58eBxT8G8zKI9s  24EAjVia58eBxT8G8zKI9s    wall_1        None   \n",
       "0_$8hcBNr8OhV23ievP0wA  0_$8hcBNr8OhV23ievP0wA    wall_1        None   \n",
       "00aB8euCbDg81JtJMGNNA_  00aB8euCbDg81JtJMGNNA_    wall_1        None   \n",
       "3B_ML7UFLBuwqdA5kOJ8Ed  3B_ML7UFLBuwqdA5kOJ8Ed    wall_1        None   \n",
       "15pNyDx8bDVOMdEq_VJEZu  15pNyDx8bDVOMdEq_VJEZu    wall_1        None   \n",
       "3O4BSWjPDCYeBvy758Zgku  3O4BSWjPDCYeBvy758Zgku    wall_1        None   \n",
       "0qYIMIVsD25vvwv_71Oj4a  0qYIMIVsD25vvwv_71Oj4a    wall_1        None   \n",
       "19gvT7BIz4je6RwCWKdkpV  19gvT7BIz4je6RwCWKdkpV    wall_1        None   \n",
       "1hwjNFfG590hKjpC3ULvBZ  1hwjNFfG590hKjpC3ULvBZ    wall_1        None   \n",
       "3ZH_BlG559BvSGnllHkZ1r  3ZH_BlG559BvSGnllHkZ1r    wall_1        None   \n",
       "1B5GW8bDfBR88IZtJ4l7rM  1B5GW8bDfBR88IZtJ4l7rM    wall_1        None   \n",
       "1JF_u8IxbARR3hSfVOgX$C  1JF_u8IxbARR3hSfVOgX$C    wall_1        None   \n",
       "2YPbDz0WD0oxofUUDsKkts  2YPbDz0WD0oxofUUDsKkts    wall_1        None   \n",
       "3bX50btATAou_MUYM4z34n  3bX50btATAou_MUYM4z34n    wall_1        None   \n",
       "1edf6Vb2P5GOyqGF13DXEn  1edf6Vb2P5GOyqGF13DXEn    wall_1        None   \n",
       "24NptVKQz2d9RijWMt_Tzg  24NptVKQz2d9RijWMt_Tzg    wall_1        None   \n",
       "3ZUM$pUFr0iuRbE09VLT4x  3ZUM$pUFr0iuRbE09VLT4x    wall_1        None   \n",
       "0iAxOR9jT9Ix4CuHLlC6UA  0iAxOR9jT9Ix4CuHLlC6UA    wall_1        None   \n",
       "137_gUaLPB6OGv1ftxP$N6  137_gUaLPB6OGv1ftxP$N6    wall_1        None   \n",
       "2ZaSsznfrElwB5aAESSDoz  2ZaSsznfrElwB5aAESSDoz    wall_1        None   \n",
       "3YXhOHb5f4Eu$2Kob3lYjh  3YXhOHb5f4Eu$2Kob3lYjh    wall_1        None   \n",
       "23x1vCYWPC1Pnv7k_zxwYx  23x1vCYWPC1Pnv7k_zxwYx  window_1        None   \n",
       "03evn2mrrB1edb4jEbE61m  03evn2mrrB1edb4jEbE61m  window_1        None   \n",
       "1GW3W0N9L6_Qg_7Iw0TTAZ  1GW3W0N9L6_Qg_7Iw0TTAZ  window_1        None   \n",
       "2S$xe5ad54xQKuBm5cRPKq  2S$xe5ad54xQKuBm5cRPKq  window_1        None   \n",
       "1FZTcNrtf5LRl6e7EVXelg  1FZTcNrtf5LRl6e7EVXelg  window_1        None   \n",
       "3xsTAnL_rDNglIhOSxZ_5r  3xsTAnL_rDNglIhOSxZ_5r  window_1        None   \n",
       "2NdMjLqqvD7v3MH9EPruqJ  2NdMjLqqvD7v3MH9EPruqJ  window_1        None   \n",
       "3qjUa4XRn3ixgeKRIomOnW  3qjUa4XRn3ixgeKRIomOnW      None        None   \n",
       "2zrN0YFkv6N8YWaAf45CZl  2zrN0YFkv6N8YWaAf45CZl      None        None   \n",
       "19OJ5fjWD2wxQC8RymYb7z  19OJ5fjWD2wxQC8RymYb7z      None        None   \n",
       "0oEMWIyxjCeAkkIBzSoB6K  0oEMWIyxjCeAkkIBzSoB6K      None        None   \n",
       "2tEguBNoTC7f121Fpu7QWl  2tEguBNoTC7f121Fpu7QWl      None        None   \n",
       "3vDx2qvjz9$hgHLtsb$oI5  3vDx2qvjz9$hgHLtsb$oI5      None        None   \n",
       "3zaDEyYpr0vxGR5WWEE5O0  3zaDEyYpr0vxGR5WWEE5O0      None        None   \n",
       "07Yp1ohUX7wesC0y4Q_cvr  07Yp1ohUX7wesC0y4Q_cvr      None        None   \n",
       "0EuooOE7bA1x4VmKnYSR4u  0EuooOE7bA1x4VmKnYSR4u      None        None   \n",
       "2Zzn$FcnjFt8vTHwYtfFLz  2Zzn$FcnjFt8vTHwYtfFLz      None        None   \n",
       "\n",
       "                       ObjectType    IfcType   category  \n",
       "3q7Twobe9ENvh43NYJYCkZ       None   IfcSpace   IfcSpace  \n",
       "33GCg72APAegkpE39K6OCT       None    IfcSlab    IfcSlab  \n",
       "15ttRC7BL7Ngs5NHJr5Ynb       None    IfcWall    IfcWall  \n",
       "3jHerqfRDEbB68GwT$MLmP       None    IfcWall    IfcWall  \n",
       "2G21b5UMHFNB45OoEIXvNO       None    IfcWall    IfcWall  \n",
       "1LfjqzwfXEHh5CANx8rM4X       None    IfcWall    IfcWall  \n",
       "04snYQkcbEGfjItRCcaWig       None    IfcWall    IfcWall  \n",
       "24EAjVia58eBxT8G8zKI9s       None    IfcWall    IfcWall  \n",
       "0_$8hcBNr8OhV23ievP0wA       None    IfcWall    IfcWall  \n",
       "00aB8euCbDg81JtJMGNNA_       None    IfcWall    IfcWall  \n",
       "3B_ML7UFLBuwqdA5kOJ8Ed       None    IfcWall    IfcWall  \n",
       "15pNyDx8bDVOMdEq_VJEZu       None    IfcWall    IfcWall  \n",
       "3O4BSWjPDCYeBvy758Zgku       None    IfcWall    IfcWall  \n",
       "0qYIMIVsD25vvwv_71Oj4a       None    IfcWall    IfcWall  \n",
       "19gvT7BIz4je6RwCWKdkpV       None    IfcWall    IfcWall  \n",
       "1hwjNFfG590hKjpC3ULvBZ       None    IfcWall    IfcWall  \n",
       "3ZH_BlG559BvSGnllHkZ1r       None    IfcWall    IfcWall  \n",
       "1B5GW8bDfBR88IZtJ4l7rM       None    IfcWall    IfcWall  \n",
       "1JF_u8IxbARR3hSfVOgX$C       None    IfcWall    IfcWall  \n",
       "2YPbDz0WD0oxofUUDsKkts       None    IfcWall    IfcWall  \n",
       "3bX50btATAou_MUYM4z34n       None    IfcWall    IfcWall  \n",
       "1edf6Vb2P5GOyqGF13DXEn       None    IfcWall    IfcWall  \n",
       "24NptVKQz2d9RijWMt_Tzg       None    IfcWall    IfcWall  \n",
       "3ZUM$pUFr0iuRbE09VLT4x       None    IfcWall    IfcWall  \n",
       "0iAxOR9jT9Ix4CuHLlC6UA       None    IfcWall    IfcWall  \n",
       "137_gUaLPB6OGv1ftxP$N6       None    IfcWall    IfcWall  \n",
       "2ZaSsznfrElwB5aAESSDoz       None    IfcWall    IfcWall  \n",
       "3YXhOHb5f4Eu$2Kob3lYjh       None    IfcWall    IfcWall  \n",
       "23x1vCYWPC1Pnv7k_zxwYx       None  IfcWindow  IfcWindow  \n",
       "03evn2mrrB1edb4jEbE61m       None  IfcWindow  IfcWindow  \n",
       "1GW3W0N9L6_Qg_7Iw0TTAZ       None  IfcWindow  IfcWindow  \n",
       "2S$xe5ad54xQKuBm5cRPKq       None  IfcWindow  IfcWindow  \n",
       "1FZTcNrtf5LRl6e7EVXelg       None  IfcWindow  IfcWindow  \n",
       "3xsTAnL_rDNglIhOSxZ_5r       None  IfcWindow  IfcWindow  \n",
       "2NdMjLqqvD7v3MH9EPruqJ       None  IfcWindow  IfcWindow  \n",
       "3qjUa4XRn3ixgeKRIomOnW       None    IfcDoor    IfcDoor  \n",
       "2zrN0YFkv6N8YWaAf45CZl       None    IfcDoor    IfcDoor  \n",
       "19OJ5fjWD2wxQC8RymYb7z       None    IfcDoor    IfcDoor  \n",
       "0oEMWIyxjCeAkkIBzSoB6K       None    IfcDoor    IfcDoor  \n",
       "2tEguBNoTC7f121Fpu7QWl       None    IfcDoor    IfcDoor  \n",
       "3vDx2qvjz9$hgHLtsb$oI5       None    IfcDoor    IfcDoor  \n",
       "3zaDEyYpr0vxGR5WWEE5O0       None    IfcDoor    IfcDoor  \n",
       "07Yp1ohUX7wesC0y4Q_cvr       None    IfcDoor    IfcDoor  \n",
       "0EuooOE7bA1x4VmKnYSR4u       None    IfcDoor    IfcDoor  \n",
       "2Zzn$FcnjFt8vTHwYtfFLz       None    IfcDoor    IfcDoor  "
      ]
     },
     "execution_count": 37,
     "metadata": {},
     "output_type": "execute_result"
    }
   ],
   "source": [
    "nodes"
   ]
  },
  {
   "cell_type": "code",
   "execution_count": 38,
   "metadata": {
    "id": "MMzyjQF31NSV"
   },
   "outputs": [],
   "source": [
    "# # Remove columns that contain a certain percentage of NaNs\n",
    "# threshold = 0.5 * len(nodes)\n",
    "# nodes = nodes.dropna(axis=1, thresh=threshold)  # Drop columns below the threshold"
   ]
  },
  {
   "cell_type": "code",
   "execution_count": 39,
   "metadata": {
    "colab": {
     "base_uri": "https://localhost:8080/"
    },
    "executionInfo": {
     "elapsed": 58,
     "status": "ok",
     "timestamp": 1746526471815,
     "user": {
      "displayName": "David Andres Leon",
      "userId": "16329452066516455157"
     },
     "user_tz": -120
    },
    "id": "CTupGxU2z-hS",
    "outputId": "cdd31671-707e-41eb-f983-58582fe8007e"
   },
   "outputs": [
    {
     "name": "stdout",
     "output_type": "stream",
     "text": [
      "<class 'pandas.core.frame.DataFrame'>\n",
      "Index: 45 entries, 3q7Twobe9ENvh43NYJYCkZ to 2Zzn$FcnjFt8vTHwYtfFLz\n",
      "Data columns (total 6 columns):\n",
      " #   Column       Non-Null Count  Dtype \n",
      "---  ------       --------------  ----- \n",
      " 0   GlobalId     45 non-null     object\n",
      " 1   Name         35 non-null     object\n",
      " 2   Description  0 non-null      object\n",
      " 3   ObjectType   0 non-null      object\n",
      " 4   IfcType      45 non-null     object\n",
      " 5   category     45 non-null     object\n",
      "dtypes: object(6)\n",
      "memory usage: 2.5+ KB\n"
     ]
    }
   ],
   "source": [
    "nodes.info()"
   ]
  },
  {
   "cell_type": "code",
   "execution_count": 40,
   "metadata": {
    "colab": {
     "base_uri": "https://localhost:8080/",
     "height": 143
    },
    "executionInfo": {
     "elapsed": 19,
     "status": "ok",
     "timestamp": 1746526483971,
     "user": {
      "displayName": "David Andres Leon",
      "userId": "16329452066516455157"
     },
     "user_tz": -120
    },
    "id": "2GAGuYQL1sG1",
    "outputId": "fbf6e9f9-c67b-4bb1-e1ad-32f8dbbd6d14"
   },
   "outputs": [
    {
     "data": {
      "text/html": [
       "<div>\n",
       "<style scoped>\n",
       "    .dataframe tbody tr th:only-of-type {\n",
       "        vertical-align: middle;\n",
       "    }\n",
       "\n",
       "    .dataframe tbody tr th {\n",
       "        vertical-align: top;\n",
       "    }\n",
       "\n",
       "    .dataframe thead th {\n",
       "        text-align: right;\n",
       "    }\n",
       "</style>\n",
       "<table border=\"1\" class=\"dataframe\">\n",
       "  <thead>\n",
       "    <tr style=\"text-align: right;\">\n",
       "      <th></th>\n",
       "      <th>GlobalId</th>\n",
       "      <th>Name</th>\n",
       "      <th>Description</th>\n",
       "      <th>ObjectType</th>\n",
       "      <th>IfcType</th>\n",
       "      <th>category</th>\n",
       "    </tr>\n",
       "  </thead>\n",
       "  <tbody>\n",
       "    <tr>\n",
       "      <th>3q7Twobe9ENvh43NYJYCkZ</th>\n",
       "      <td>3q7Twobe9ENvh43NYJYCkZ</td>\n",
       "      <td>LEVEL_1</td>\n",
       "      <td>None</td>\n",
       "      <td>None</td>\n",
       "      <td>IfcSpace</td>\n",
       "      <td>IfcSpace</td>\n",
       "    </tr>\n",
       "    <tr>\n",
       "      <th>33GCg72APAegkpE39K6OCT</th>\n",
       "      <td>33GCg72APAegkpE39K6OCT</td>\n",
       "      <td>slab</td>\n",
       "      <td>None</td>\n",
       "      <td>None</td>\n",
       "      <td>IfcSlab</td>\n",
       "      <td>IfcSlab</td>\n",
       "    </tr>\n",
       "    <tr>\n",
       "      <th>15ttRC7BL7Ngs5NHJr5Ynb</th>\n",
       "      <td>15ttRC7BL7Ngs5NHJr5Ynb</td>\n",
       "      <td>wall_1</td>\n",
       "      <td>None</td>\n",
       "      <td>None</td>\n",
       "      <td>IfcWall</td>\n",
       "      <td>IfcWall</td>\n",
       "    </tr>\n",
       "  </tbody>\n",
       "</table>\n",
       "</div>"
      ],
      "text/plain": [
       "                                      GlobalId     Name Description  \\\n",
       "3q7Twobe9ENvh43NYJYCkZ  3q7Twobe9ENvh43NYJYCkZ  LEVEL_1        None   \n",
       "33GCg72APAegkpE39K6OCT  33GCg72APAegkpE39K6OCT     slab        None   \n",
       "15ttRC7BL7Ngs5NHJr5Ynb  15ttRC7BL7Ngs5NHJr5Ynb   wall_1        None   \n",
       "\n",
       "                       ObjectType   IfcType  category  \n",
       "3q7Twobe9ENvh43NYJYCkZ       None  IfcSpace  IfcSpace  \n",
       "33GCg72APAegkpE39K6OCT       None   IfcSlab   IfcSlab  \n",
       "15ttRC7BL7Ngs5NHJr5Ynb       None   IfcWall   IfcWall  "
      ]
     },
     "execution_count": 40,
     "metadata": {},
     "output_type": "execute_result"
    }
   ],
   "source": [
    "nodes.head(3)"
   ]
  },
  {
   "cell_type": "code",
   "execution_count": 41,
   "metadata": {
    "id": "BMGVaFo1wdh4"
   },
   "outputs": [],
   "source": [
    "# Replace Nans with a string 'N/A'\n",
    "nodes.fillna('N/A', inplace=True)"
   ]
  },
  {
   "cell_type": "code",
   "execution_count": 42,
   "metadata": {
    "colab": {
     "base_uri": "https://localhost:8080/"
    },
    "executionInfo": {
     "elapsed": 54,
     "status": "ok",
     "timestamp": 1746526539337,
     "user": {
      "displayName": "David Andres Leon",
      "userId": "16329452066516455157"
     },
     "user_tz": -120
    },
    "id": "zQdZ8hC4wpz_",
    "outputId": "d5a9d029-9c83-459e-8895-a86b1058e7aa"
   },
   "outputs": [
    {
     "name": "stdout",
     "output_type": "stream",
     "text": [
      "<class 'pandas.core.frame.DataFrame'>\n",
      "Index: 45 entries, 3q7Twobe9ENvh43NYJYCkZ to 2Zzn$FcnjFt8vTHwYtfFLz\n",
      "Data columns (total 6 columns):\n",
      " #   Column       Non-Null Count  Dtype \n",
      "---  ------       --------------  ----- \n",
      " 0   GlobalId     45 non-null     object\n",
      " 1   Name         45 non-null     object\n",
      " 2   Description  45 non-null     object\n",
      " 3   ObjectType   45 non-null     object\n",
      " 4   IfcType      45 non-null     object\n",
      " 5   category     45 non-null     object\n",
      "dtypes: object(6)\n",
      "memory usage: 2.5+ KB\n"
     ]
    }
   ],
   "source": [
    "nodes.info()"
   ]
  },
  {
   "cell_type": "code",
   "execution_count": 43,
   "metadata": {
    "colab": {
     "base_uri": "https://localhost:8080/",
     "height": 335
    },
    "executionInfo": {
     "elapsed": 55,
     "status": "ok",
     "timestamp": 1746526563058,
     "user": {
      "displayName": "David Andres Leon",
      "userId": "16329452066516455157"
     },
     "user_tz": -120
    },
    "id": "Zlumc94V5wyN",
    "outputId": "10e4f412-207e-4ad6-856e-603329a54669"
   },
   "outputs": [
    {
     "data": {
      "text/plain": [
       "IfcType\n",
       "IfcWall      26\n",
       "IfcDoor      10\n",
       "IfcWindow     7\n",
       "IfcSpace      1\n",
       "IfcSlab       1\n",
       "Name: count, dtype: int64"
      ]
     },
     "execution_count": 43,
     "metadata": {},
     "output_type": "execute_result"
    }
   ],
   "source": [
    "nodes['IfcType'].value_counts()"
   ]
  },
  {
   "cell_type": "code",
   "execution_count": 44,
   "metadata": {
    "colab": {
     "base_uri": "https://localhost:8080/",
     "height": 335
    },
    "executionInfo": {
     "elapsed": 95,
     "status": "ok",
     "timestamp": 1746526568903,
     "user": {
      "displayName": "David Andres Leon",
      "userId": "16329452066516455157"
     },
     "user_tz": -120
    },
    "id": "vjMANKbG6aGc",
    "outputId": "16577c91-22d5-4031-86f6-6d25044f9792"
   },
   "outputs": [
    {
     "data": {
      "text/plain": [
       "category\n",
       "IfcWall      26\n",
       "IfcDoor      10\n",
       "IfcWindow     7\n",
       "IfcSpace      1\n",
       "IfcSlab       1\n",
       "Name: count, dtype: int64"
      ]
     },
     "execution_count": 44,
     "metadata": {},
     "output_type": "execute_result"
    }
   ],
   "source": [
    "nodes['category'].value_counts()"
   ]
  },
  {
   "cell_type": "code",
   "execution_count": 45,
   "metadata": {
    "id": "4qjpHhg608uW"
   },
   "outputs": [],
   "source": [
    "edges = pd.DataFrame(G.edges(data=True), columns=['source', 'target', 'attributes'])"
   ]
  },
  {
   "cell_type": "code",
   "execution_count": 46,
   "metadata": {
    "colab": {
     "base_uri": "https://localhost:8080/"
    },
    "executionInfo": {
     "elapsed": 40,
     "status": "ok",
     "timestamp": 1746526583294,
     "user": {
      "displayName": "David Andres Leon",
      "userId": "16329452066516455157"
     },
     "user_tz": -120
    },
    "id": "my-BJ01y0O-k",
    "outputId": "f10a5f4b-3931-4955-f708-5c07b3d512e0"
   },
   "outputs": [
    {
     "name": "stdout",
     "output_type": "stream",
     "text": [
      "<class 'pandas.core.frame.DataFrame'>\n",
      "RangeIndex: 61 entries, 0 to 60\n",
      "Data columns (total 3 columns):\n",
      " #   Column      Non-Null Count  Dtype \n",
      "---  ------      --------------  ----- \n",
      " 0   source      61 non-null     object\n",
      " 1   target      61 non-null     object\n",
      " 2   attributes  61 non-null     object\n",
      "dtypes: object(3)\n",
      "memory usage: 1.6+ KB\n"
     ]
    }
   ],
   "source": [
    "edges.info()"
   ]
  },
  {
   "cell_type": "code",
   "execution_count": 47,
   "metadata": {
    "colab": {
     "base_uri": "https://localhost:8080/",
     "height": 206
    },
    "executionInfo": {
     "elapsed": 32,
     "status": "ok",
     "timestamp": 1746526585544,
     "user": {
      "displayName": "David Andres Leon",
      "userId": "16329452066516455157"
     },
     "user_tz": -120
    },
    "id": "EvLLWGDP0E8e",
    "outputId": "81a3853c-7303-40eb-9d94-78763d12872b"
   },
   "outputs": [
    {
     "data": {
      "text/html": [
       "<div>\n",
       "<style scoped>\n",
       "    .dataframe tbody tr th:only-of-type {\n",
       "        vertical-align: middle;\n",
       "    }\n",
       "\n",
       "    .dataframe tbody tr th {\n",
       "        vertical-align: top;\n",
       "    }\n",
       "\n",
       "    .dataframe thead th {\n",
       "        text-align: right;\n",
       "    }\n",
       "</style>\n",
       "<table border=\"1\" class=\"dataframe\">\n",
       "  <thead>\n",
       "    <tr style=\"text-align: right;\">\n",
       "      <th></th>\n",
       "      <th>source</th>\n",
       "      <th>target</th>\n",
       "      <th>attributes</th>\n",
       "    </tr>\n",
       "  </thead>\n",
       "  <tbody>\n",
       "    <tr>\n",
       "      <th>0</th>\n",
       "      <td>3q7Twobe9ENvh43NYJYCkZ</td>\n",
       "      <td>33GCg72APAegkpE39K6OCT</td>\n",
       "      <td>{'relation': 'SURROUNDS'}</td>\n",
       "    </tr>\n",
       "    <tr>\n",
       "      <th>1</th>\n",
       "      <td>3q7Twobe9ENvh43NYJYCkZ</td>\n",
       "      <td>15ttRC7BL7Ngs5NHJr5Ynb</td>\n",
       "      <td>{'relation': 'SURROUNDS'}</td>\n",
       "    </tr>\n",
       "    <tr>\n",
       "      <th>2</th>\n",
       "      <td>3q7Twobe9ENvh43NYJYCkZ</td>\n",
       "      <td>3jHerqfRDEbB68GwT$MLmP</td>\n",
       "      <td>{'relation': 'SURROUNDS'}</td>\n",
       "    </tr>\n",
       "    <tr>\n",
       "      <th>3</th>\n",
       "      <td>3q7Twobe9ENvh43NYJYCkZ</td>\n",
       "      <td>2G21b5UMHFNB45OoEIXvNO</td>\n",
       "      <td>{'relation': 'SURROUNDS'}</td>\n",
       "    </tr>\n",
       "    <tr>\n",
       "      <th>4</th>\n",
       "      <td>3q7Twobe9ENvh43NYJYCkZ</td>\n",
       "      <td>1LfjqzwfXEHh5CANx8rM4X</td>\n",
       "      <td>{'relation': 'SURROUNDS'}</td>\n",
       "    </tr>\n",
       "  </tbody>\n",
       "</table>\n",
       "</div>"
      ],
      "text/plain": [
       "                   source                  target                 attributes\n",
       "0  3q7Twobe9ENvh43NYJYCkZ  33GCg72APAegkpE39K6OCT  {'relation': 'SURROUNDS'}\n",
       "1  3q7Twobe9ENvh43NYJYCkZ  15ttRC7BL7Ngs5NHJr5Ynb  {'relation': 'SURROUNDS'}\n",
       "2  3q7Twobe9ENvh43NYJYCkZ  3jHerqfRDEbB68GwT$MLmP  {'relation': 'SURROUNDS'}\n",
       "3  3q7Twobe9ENvh43NYJYCkZ  2G21b5UMHFNB45OoEIXvNO  {'relation': 'SURROUNDS'}\n",
       "4  3q7Twobe9ENvh43NYJYCkZ  1LfjqzwfXEHh5CANx8rM4X  {'relation': 'SURROUNDS'}"
      ]
     },
     "execution_count": 47,
     "metadata": {},
     "output_type": "execute_result"
    }
   ],
   "source": [
    "edges.head()"
   ]
  },
  {
   "cell_type": "code",
   "execution_count": 48,
   "metadata": {
    "colab": {
     "base_uri": "https://localhost:8080/"
    },
    "executionInfo": {
     "elapsed": 87,
     "status": "ok",
     "timestamp": 1746526589624,
     "user": {
      "displayName": "David Andres Leon",
      "userId": "16329452066516455157"
     },
     "user_tz": -120
    },
    "id": "7Rq12ByYZy62",
    "outputId": "ee1e13f6-14a6-4cc0-c160-6c3379b1bdb9"
   },
   "outputs": [
    {
     "name": "stdout",
     "output_type": "stream",
     "text": [
      "['SURROUNDS' 'VOIDS']\n"
     ]
    }
   ],
   "source": [
    "# Check for edges types\n",
    "edges['relation_type'] = edges['attributes'].apply(lambda x: x.get('relation', None))\n",
    "unique_relations = edges['relation_type'].unique()\n",
    "print(unique_relations)\n"
   ]
  },
  {
   "cell_type": "markdown",
   "metadata": {
    "id": "WXZbPLpfMieg"
   },
   "source": [
    "## 2.7. Save `csv` files for nodes and edges"
   ]
  },
  {
   "cell_type": "code",
   "execution_count": 49,
   "metadata": {
    "id": "WcVAHSEkc4Wr"
   },
   "outputs": [
    {
     "name": "stderr",
     "output_type": "stream",
     "text": [
      "The syntax of the command is incorrect.\n"
     ]
    }
   ],
   "source": [
    "# prompt: create directory in drive /content/drive/MyDrive/GraphML/\n",
    "!mkdir -p /content/drive/MyDrive/GraphML/CSV/"
   ]
  },
  {
   "cell_type": "markdown",
   "metadata": {
    "id": "piddnf41Uw9j"
   },
   "source": []
  },
  {
   "cell_type": "code",
   "execution_count": 50,
   "metadata": {
    "id": "riBWAj0F1wzl"
   },
   "outputs": [],
   "source": [
    "nodes.to_csv('nodes_01b.csv')\n",
    "edges.to_csv('edges_01b.csv')"
   ]
  }
 ],
 "metadata": {
  "colab": {
   "provenance": [
    {
     "file_id": "1OsGhp2SGu2qPVhOCGH_nu0bZevNhux6H",
     "timestamp": 1746524945679
    }
   ]
  },
  "kernelspec": {
   "display_name": "Python 3",
   "name": "python3"
  },
  "language_info": {
   "codemirror_mode": {
    "name": "ipython",
    "version": 3
   },
   "file_extension": ".py",
   "mimetype": "text/x-python",
   "name": "python",
   "nbconvert_exporter": "python",
   "pygments_lexer": "ipython3",
   "version": "3.11.4"
  }
 },
 "nbformat": 4,
 "nbformat_minor": 0
}
