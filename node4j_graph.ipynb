{
 "cells": [
  {
   "cell_type": "markdown",
   "id": "92c9919a",
   "metadata": {},
   "source": [
    "# AIA25 GraphML 04 Graph DB - modified to run on local machine\n",
    "follow the instructions to instantiate the Node4J database..."
   ]
  },
  {
   "cell_type": "code",
   "execution_count": 34,
   "id": "48b7a969",
   "metadata": {},
   "outputs": [],
   "source": [
    "# import packages\n",
    "import plotly.graph_objects as go\n",
    "from neo4j import GraphDatabase\n",
    "import pandas as pd\n",
    "import networkx as nx\n",
    "from tqdm import tqdm\n",
    "import tkinter as tk"
   ]
  },
  {
   "cell_type": "code",
   "execution_count": 35,
   "id": "ef008e18",
   "metadata": {},
   "outputs": [],
   "source": [
    "# load the csv files\n",
    "edges_01 = pd.read_csv(r'edges_01a.csv') #check path here\n",
    "nodes_01 = pd.read_csv(r'nodes_01a.csv') #check path here"
   ]
  },
  {
   "cell_type": "code",
   "execution_count": 36,
   "id": "08c5944c",
   "metadata": {},
   "outputs": [
    {
     "data": {
      "text/html": [
       "<div>\n",
       "<style scoped>\n",
       "    .dataframe tbody tr th:only-of-type {\n",
       "        vertical-align: middle;\n",
       "    }\n",
       "\n",
       "    .dataframe tbody tr th {\n",
       "        vertical-align: top;\n",
       "    }\n",
       "\n",
       "    .dataframe thead th {\n",
       "        text-align: right;\n",
       "    }\n",
       "</style>\n",
       "<table border=\"1\" class=\"dataframe\">\n",
       "  <thead>\n",
       "    <tr style=\"text-align: right;\">\n",
       "      <th></th>\n",
       "      <th>Unnamed: 0</th>\n",
       "      <th>source</th>\n",
       "      <th>target</th>\n",
       "      <th>attributes</th>\n",
       "      <th>relation_type</th>\n",
       "    </tr>\n",
       "  </thead>\n",
       "  <tbody>\n",
       "    <tr>\n",
       "      <th>0</th>\n",
       "      <td>0</td>\n",
       "      <td>15vDMMAar37xgrny$3QDMH</td>\n",
       "      <td>2lv$85Dg92KhFiPH_MQvgk</td>\n",
       "      <td>{'relation': 'SURROUNDS'}</td>\n",
       "      <td>SURROUNDS</td>\n",
       "    </tr>\n",
       "    <tr>\n",
       "      <th>1</th>\n",
       "      <td>1</td>\n",
       "      <td>15vDMMAar37xgrny$3QDMH</td>\n",
       "      <td>3rfBVMzcvEWBXMzUPg1fJ$</td>\n",
       "      <td>{'relation': 'SURROUNDS'}</td>\n",
       "      <td>SURROUNDS</td>\n",
       "    </tr>\n",
       "    <tr>\n",
       "      <th>2</th>\n",
       "      <td>2</td>\n",
       "      <td>15vDMMAar37xgrny$3QDMH</td>\n",
       "      <td>0ns$ibjbL5iOi6E3kgDXJo</td>\n",
       "      <td>{'relation': 'SURROUNDS'}</td>\n",
       "      <td>SURROUNDS</td>\n",
       "    </tr>\n",
       "    <tr>\n",
       "      <th>3</th>\n",
       "      <td>3</td>\n",
       "      <td>15vDMMAar37xgrny$3QDMH</td>\n",
       "      <td>0$5P4mS9DE8wVf23cU6OOb</td>\n",
       "      <td>{'relation': 'SURROUNDS'}</td>\n",
       "      <td>SURROUNDS</td>\n",
       "    </tr>\n",
       "    <tr>\n",
       "      <th>4</th>\n",
       "      <td>4</td>\n",
       "      <td>15vDMMAar37xgrny$3QDMH</td>\n",
       "      <td>0iPTdIpHLD1fWb73ScRQE7</td>\n",
       "      <td>{'relation': 'SURROUNDS'}</td>\n",
       "      <td>SURROUNDS</td>\n",
       "    </tr>\n",
       "  </tbody>\n",
       "</table>\n",
       "</div>"
      ],
      "text/plain": [
       "   Unnamed: 0                  source                  target  \\\n",
       "0           0  15vDMMAar37xgrny$3QDMH  2lv$85Dg92KhFiPH_MQvgk   \n",
       "1           1  15vDMMAar37xgrny$3QDMH  3rfBVMzcvEWBXMzUPg1fJ$   \n",
       "2           2  15vDMMAar37xgrny$3QDMH  0ns$ibjbL5iOi6E3kgDXJo   \n",
       "3           3  15vDMMAar37xgrny$3QDMH  0$5P4mS9DE8wVf23cU6OOb   \n",
       "4           4  15vDMMAar37xgrny$3QDMH  0iPTdIpHLD1fWb73ScRQE7   \n",
       "\n",
       "                  attributes relation_type  \n",
       "0  {'relation': 'SURROUNDS'}     SURROUNDS  \n",
       "1  {'relation': 'SURROUNDS'}     SURROUNDS  \n",
       "2  {'relation': 'SURROUNDS'}     SURROUNDS  \n",
       "3  {'relation': 'SURROUNDS'}     SURROUNDS  \n",
       "4  {'relation': 'SURROUNDS'}     SURROUNDS  "
      ]
     },
     "execution_count": 36,
     "metadata": {},
     "output_type": "execute_result"
    }
   ],
   "source": [
    "# interrogate the dataframes\n",
    "edges_01.head()"
   ]
  },
  {
   "cell_type": "code",
   "execution_count": 37,
   "id": "bff2d597",
   "metadata": {},
   "outputs": [
    {
     "data": {
      "text/html": [
       "<div>\n",
       "<style scoped>\n",
       "    .dataframe tbody tr th:only-of-type {\n",
       "        vertical-align: middle;\n",
       "    }\n",
       "\n",
       "    .dataframe tbody tr th {\n",
       "        vertical-align: top;\n",
       "    }\n",
       "\n",
       "    .dataframe thead th {\n",
       "        text-align: right;\n",
       "    }\n",
       "</style>\n",
       "<table border=\"1\" class=\"dataframe\">\n",
       "  <thead>\n",
       "    <tr style=\"text-align: right;\">\n",
       "      <th></th>\n",
       "      <th>Unnamed: 0</th>\n",
       "      <th>GlobalId</th>\n",
       "      <th>Name</th>\n",
       "      <th>Description</th>\n",
       "      <th>ObjectType</th>\n",
       "      <th>IfcType</th>\n",
       "      <th>category</th>\n",
       "    </tr>\n",
       "  </thead>\n",
       "  <tbody>\n",
       "    <tr>\n",
       "      <th>0</th>\n",
       "      <td>15vDMMAar37xgrny$3QDMH</td>\n",
       "      <td>15vDMMAar37xgrny$3QDMH</td>\n",
       "      <td>LVL1_1B_63</td>\n",
       "      <td>NaN</td>\n",
       "      <td>NaN</td>\n",
       "      <td>IfcSpace</td>\n",
       "      <td>IfcSpace</td>\n",
       "    </tr>\n",
       "    <tr>\n",
       "      <th>1</th>\n",
       "      <td>0_4V1TmqHFng4fJUGleJ8y</td>\n",
       "      <td>0_4V1TmqHFng4fJUGleJ8y</td>\n",
       "      <td>LVL1_1B_74</td>\n",
       "      <td>NaN</td>\n",
       "      <td>NaN</td>\n",
       "      <td>IfcSpace</td>\n",
       "      <td>IfcSpace</td>\n",
       "    </tr>\n",
       "    <tr>\n",
       "      <th>2</th>\n",
       "      <td>2xwSvUz2HC39UNEW6gW5VM</td>\n",
       "      <td>2xwSvUz2HC39UNEW6gW5VM</td>\n",
       "      <td>LVL1_1B_82</td>\n",
       "      <td>NaN</td>\n",
       "      <td>NaN</td>\n",
       "      <td>IfcSpace</td>\n",
       "      <td>IfcSpace</td>\n",
       "    </tr>\n",
       "    <tr>\n",
       "      <th>3</th>\n",
       "      <td>2Nam78vBrA_BtikMcO_hhP</td>\n",
       "      <td>2Nam78vBrA_BtikMcO_hhP</td>\n",
       "      <td>LVL1_1B_85</td>\n",
       "      <td>NaN</td>\n",
       "      <td>NaN</td>\n",
       "      <td>IfcSpace</td>\n",
       "      <td>IfcSpace</td>\n",
       "    </tr>\n",
       "    <tr>\n",
       "      <th>4</th>\n",
       "      <td>1_4zoklETABBqZ92jqi7TQ</td>\n",
       "      <td>1_4zoklETABBqZ92jqi7TQ</td>\n",
       "      <td>LVL1_1B_93</td>\n",
       "      <td>NaN</td>\n",
       "      <td>NaN</td>\n",
       "      <td>IfcSpace</td>\n",
       "      <td>IfcSpace</td>\n",
       "    </tr>\n",
       "  </tbody>\n",
       "</table>\n",
       "</div>"
      ],
      "text/plain": [
       "               Unnamed: 0                GlobalId        Name  Description  \\\n",
       "0  15vDMMAar37xgrny$3QDMH  15vDMMAar37xgrny$3QDMH  LVL1_1B_63          NaN   \n",
       "1  0_4V1TmqHFng4fJUGleJ8y  0_4V1TmqHFng4fJUGleJ8y  LVL1_1B_74          NaN   \n",
       "2  2xwSvUz2HC39UNEW6gW5VM  2xwSvUz2HC39UNEW6gW5VM  LVL1_1B_82          NaN   \n",
       "3  2Nam78vBrA_BtikMcO_hhP  2Nam78vBrA_BtikMcO_hhP  LVL1_1B_85          NaN   \n",
       "4  1_4zoklETABBqZ92jqi7TQ  1_4zoklETABBqZ92jqi7TQ  LVL1_1B_93          NaN   \n",
       "\n",
       "  ObjectType   IfcType  category  \n",
       "0        NaN  IfcSpace  IfcSpace  \n",
       "1        NaN  IfcSpace  IfcSpace  \n",
       "2        NaN  IfcSpace  IfcSpace  \n",
       "3        NaN  IfcSpace  IfcSpace  \n",
       "4        NaN  IfcSpace  IfcSpace  "
      ]
     },
     "execution_count": 37,
     "metadata": {},
     "output_type": "execute_result"
    }
   ],
   "source": [
    "nodes_01.head()"
   ]
  },
  {
   "cell_type": "code",
   "execution_count": 38,
   "id": "4cf7ca8a",
   "metadata": {},
   "outputs": [
    {
     "name": "stdout",
     "output_type": "stream",
     "text": [
      "Connection successful!\n"
     ]
    }
   ],
   "source": [
    "# Connect to Neo4j\n",
    "URI = \"bolt://localhost:7687\"\n",
    "\n",
    "USERNAME = \"neo4j\"\n",
    "PASSWORD = \"macad2025\"\n",
    "\n",
    "# Create a Neo4j driver\n",
    "driver = GraphDatabase.driver(URI, auth=(USERNAME, PASSWORD))\n",
    "\n",
    "# Verify connectivity\n",
    "try:\n",
    "    driver.verify_connectivity()\n",
    "    print(\"Connection successful!\")\n",
    "except Exception as e:\n",
    "    print(\"Connection failed:\", e)"
   ]
  },
  {
   "cell_type": "markdown",
   "id": "cb1e57ad",
   "metadata": {},
   "source": [
    "# Load nodes and edges to database"
   ]
  },
  {
   "cell_type": "code",
   "execution_count": 39,
   "id": "461e2821",
   "metadata": {},
   "outputs": [],
   "source": [
    "from collections import defaultdict\n",
    "\n",
    "def merge_node(tx, node_data):\n",
    "    \"\"\"\n",
    "    Merges a node into Neo4j using a dynamic label derived from its 'IfcType'\n",
    "    and sets all properties from the CSV on the node.\n",
    "\n",
    "    The node is matched on its GlobalId to prevent duplicates.\n",
    "    \"\"\"\n",
    "    # Use the 'IfcType' column as the node label (e.g., IfcSpace, IfcWall, etc.)\n",
    "    label = node_data[\"IfcType\"]\n",
    "\n",
    "    # Convert the pandas row (Series) into a dictionary containing all properties.\n",
    "    props = node_data.to_dict()\n",
    "\n",
    "    # Build a Cypher query with a dynamic label.\n",
    "    # MERGE finds or creates the node by GlobalId, then SET updates all properties.\n",
    "    query = (\n",
    "        f\"MERGE (n:{label} {{GlobalId: $GlobalId}}) \"  # Dynamic label here\n",
    "        \"SET n = $props\"\n",
    "    )\n",
    "\n",
    "    # Execute the query using GlobalId for matching and the full properties dict.\n",
    "    tx.run(query, GlobalId=props[\"GlobalId\"], props=props)\n",
    "\n",
    "def batch_merge_nodes(tx, batch):\n",
    "    \"\"\"\n",
    "    Merges a batch of nodes into Neo4j with dynamic labels from 'IfcType'\n",
    "    \"\"\"\n",
    "\n",
    "    label_groups = defaultdict(list)\n",
    "    for row in batch:\n",
    "        label = row.get(\"IfcType\")\n",
    "        if label:\n",
    "            label_groups[label].append(row)\n",
    "\n",
    "    for label, records in label_groups.items():\n",
    "        query = f\"\"\"\n",
    "        UNWIND $rows AS row\n",
    "        MERGE (n:{label} {{GlobalId: row.GlobalId}})\n",
    "        SET n += row\n",
    "        \"\"\"\n",
    "        tx.run(query, rows=records)\n"
   ]
  },
  {
   "cell_type": "code",
   "execution_count": 40,
   "id": "4f4b71fd",
   "metadata": {},
   "outputs": [
    {
     "name": "stderr",
     "output_type": "stream",
     "text": [
      "Batch merging nodes: 100%|██████████| 6/6 [00:03<00:00,  1.56it/s]"
     ]
    },
    {
     "name": "stdout",
     "output_type": "stream",
     "text": [
      "Nodes loaded successfully!\n"
     ]
    },
    {
     "name": "stderr",
     "output_type": "stream",
     "text": [
      "\n"
     ]
    }
   ],
   "source": [
    "# Batch size\n",
    "batch_size = 500\n",
    "with driver.session() as session:\n",
    "    for i in tqdm(range(0, len(nodes_01), batch_size), desc=\"Batch merging nodes\"):\n",
    "        batch = nodes_01.iloc[i:i+batch_size].to_dict('records')\n",
    "        session.execute_write(batch_merge_nodes, batch)\n",
    "\n",
    "driver.close()\n",
    "print(\"Nodes loaded successfully!\")"
   ]
  },
  {
   "cell_type": "code",
   "execution_count": 41,
   "id": "d6e96f73",
   "metadata": {},
   "outputs": [
    {
     "name": "stderr",
     "output_type": "stream",
     "text": [
      "C:\\Users\\scleb\\AppData\\Local\\Temp\\ipykernel_19800\\2850850788.py:25: DeprecationWarning:\n",
      "\n",
      "Using a driver after it has been closed is deprecated. Future versions of the driver will raise an error.\n",
      "\n",
      "Merging SURROUNDS: 100%|██████████| 6/6 [00:14<00:00,  2.41s/it]\n",
      "Merging VOIDS: 100%|██████████| 1/1 [00:01<00:00,  1.04s/it]"
     ]
    },
    {
     "name": "stdout",
     "output_type": "stream",
     "text": [
      "Edges loaded successfully!\n"
     ]
    },
    {
     "name": "stderr",
     "output_type": "stream",
     "text": [
      "\n"
     ]
    }
   ],
   "source": [
    "def batch_merge_edges_without_apoc(tx, relation_type, batch):\n",
    "    query = f\"\"\"\n",
    "    UNWIND $rows AS row\n",
    "    MATCH (a {{GlobalId: row.source}})\n",
    "    MATCH (b {{GlobalId: row.target}})\n",
    "    MERGE (a)-[r:{relation_type}]->(b)\n",
    "    SET r += row.props\n",
    "    \"\"\"\n",
    "    tx.run(query, rows=batch)\n",
    "\n",
    "edges_data = []\n",
    "for _, row in edges_01.iterrows():\n",
    "    props = row.drop(['source', 'target', 'relation_type']).dropna().to_dict()\n",
    "    edges_data.append({\n",
    "        'source': row['source'],\n",
    "        'target': row['target'],\n",
    "        'relation_type': row['relation_type'],\n",
    "        'props': props\n",
    "    })\n",
    "\n",
    "grouped_edges = defaultdict(list)\n",
    "for row in edges_data:\n",
    "    grouped_edges[row['relation_type']].append(row)\n",
    "\n",
    "with driver.session() as session:\n",
    "    for relation_type, group in grouped_edges.items():\n",
    "        for i in tqdm(range(0, len(group), batch_size), desc=f\"Merging {relation_type}\"):\n",
    "            batch = group[i:i+batch_size]\n",
    "            session.execute_write(batch_merge_edges_without_apoc, relation_type, batch)\n",
    "\n",
    "driver.close()\n",
    "print(\"Edges loaded successfully!\")"
   ]
  },
  {
   "cell_type": "code",
   "execution_count": 42,
   "id": "22329013",
   "metadata": {},
   "outputs": [],
   "source": [
    "def merge_relationship(tx, edge_data):\n",
    "    \"\"\"\n",
    "    Merges a relationship between two nodes based on the 'source' and 'target'\n",
    "    GlobalIds from the CSV. Uses the actual relation type from the CSV.\n",
    "\n",
    "    This query:\n",
    "      - MATCHes the two nodes using their GlobalId properties.\n",
    "      - MERGEs a relationship of the specified type between them.\n",
    "      - Optionally sets a 'relation' property on the relationship.\n",
    "    \"\"\"\n",
    "    relation_type = edge_data['relation_type']\n",
    "\n",
    "    query = f\"\"\"\n",
    "    MATCH (a {{GlobalId: $source}})\n",
    "    MATCH (b {{GlobalId: $target}})\n",
    "    MERGE (a)-[r:{relation_type}]->(b)\n",
    "    SET r.relation = $relation\n",
    "    \"\"\"\n",
    "\n",
    "    tx.run(query,\n",
    "           source=edge_data[\"source\"],\n",
    "           target=edge_data[\"target\"],\n",
    "           relation=edge_data['relation_type'])"
   ]
  },
  {
   "cell_type": "code",
   "execution_count": 43,
   "id": "12ed6b14",
   "metadata": {},
   "outputs": [
    {
     "name": "stderr",
     "output_type": "stream",
     "text": [
      "C:\\Users\\scleb\\AppData\\Local\\Temp\\ipykernel_19800\\3608255067.py:23: DeprecationWarning:\n",
      "\n",
      "Using a driver after it has been closed is deprecated. Future versions of the driver will raise an error.\n",
      "\n",
      "Merging edges: 100%|██████████| 7/7 [00:11<00:00,  1.69s/it]"
     ]
    },
    {
     "name": "stdout",
     "output_type": "stream",
     "text": [
      "Edges loaded successfully!\n"
     ]
    },
    {
     "name": "stderr",
     "output_type": "stream",
     "text": [
      "\n"
     ]
    }
   ],
   "source": [
    "#works\n",
    "def batch_merge_edges(tx, batch):\n",
    "    query = \"\"\"\n",
    "    UNWIND $rows AS row\n",
    "    MATCH (a {GlobalId: row.source})\n",
    "    MATCH (b {GlobalId: row.target})\n",
    "    MERGE (a)-[r:RELATED_TO]->(b)\n",
    "    SET r += row.props\n",
    "    \"\"\"\n",
    "    tx.run(query, rows=batch)\n",
    "\n",
    "# Prepare data with source, target, and optional properties\n",
    "edges_data = []\n",
    "for _, row in edges_01.iterrows():\n",
    "    edges_data.append({\n",
    "        'source': row['source'],\n",
    "        'target': row['target'],\n",
    "        'props': row.drop(['source', 'target']).dropna().to_dict()\n",
    "    })\n",
    "\n",
    "# Batch size\n",
    "batch_size = 500\n",
    "with driver.session() as session:\n",
    "    for i in tqdm(range(0, len(edges_data), batch_size), desc=\"Merging edges\"):\n",
    "        batch = edges_data[i:i + batch_size]\n",
    "        session.execute_write(batch_merge_edges, batch)\n",
    "\n",
    "driver.close()\n",
    "print(\"Edges loaded successfully!\")"
   ]
  },
  {
   "cell_type": "code",
   "execution_count": null,
   "id": "a086ae30",
   "metadata": {},
   "outputs": [
    {
     "name": "stderr",
     "output_type": "stream",
     "text": [
      "C:\\Users\\scleb\\AppData\\Local\\Temp\\ipykernel_19800\\2436681146.py:18: DeprecationWarning:\n",
      "\n",
      "Using a driver after it has been closed is deprecated. Future versions of the driver will raise an error.\n",
      "\n"
     ]
    },
    {
     "ename": "ValueError",
     "evalue": "Mime type rendering requires nbformat>=4.2.0 but it is not installed",
     "output_type": "error",
     "traceback": [
      "\u001b[1;31m---------------------------------------------------------------------------\u001b[0m",
      "\u001b[1;31mValueError\u001b[0m                                Traceback (most recent call last)",
      "Cell \u001b[1;32mIn[46], line 107\u001b[0m\n\u001b[0;32m     82\u001b[0m node_trace \u001b[38;5;241m=\u001b[39m go\u001b[38;5;241m.\u001b[39mScatter3d(\n\u001b[0;32m     83\u001b[0m     x\u001b[38;5;241m=\u001b[39mnode_x, y\u001b[38;5;241m=\u001b[39mnode_y, z\u001b[38;5;241m=\u001b[39mnode_z,\n\u001b[0;32m     84\u001b[0m     mode\u001b[38;5;241m=\u001b[39m\u001b[38;5;124m'\u001b[39m\u001b[38;5;124mmarkers\u001b[39m\u001b[38;5;124m'\u001b[39m,\n\u001b[1;32m   (...)\u001b[0m\n\u001b[0;32m     91\u001b[0m     text\u001b[38;5;241m=\u001b[39mnode_text\n\u001b[0;32m     92\u001b[0m )\n\u001b[0;32m     95\u001b[0m fig \u001b[38;5;241m=\u001b[39m go\u001b[38;5;241m.\u001b[39mFigure(data\u001b[38;5;241m=\u001b[39m[edge_trace, node_trace],\n\u001b[0;32m     96\u001b[0m                 layout\u001b[38;5;241m=\u001b[39mgo\u001b[38;5;241m.\u001b[39mLayout(\n\u001b[0;32m     97\u001b[0m                     title\u001b[38;5;241m=\u001b[39m\u001b[38;5;28mdict\u001b[39m(text\u001b[38;5;241m=\u001b[39m\u001b[38;5;124m\"\u001b[39m\u001b[38;5;124m3D Graph Visualization from Neo4j\u001b[39m\u001b[38;5;124m\"\u001b[39m, font\u001b[38;5;241m=\u001b[39m\u001b[38;5;28mdict\u001b[39m(size\u001b[38;5;241m=\u001b[39m\u001b[38;5;241m16\u001b[39m)),\n\u001b[1;32m   (...)\u001b[0m\n\u001b[0;32m    105\u001b[0m                     )\n\u001b[0;32m    106\u001b[0m                 ))\n\u001b[1;32m--> 107\u001b[0m \u001b[43mfig\u001b[49m\u001b[38;5;241;43m.\u001b[39;49m\u001b[43mshow\u001b[49m\u001b[43m(\u001b[49m\u001b[43m)\u001b[49m\n\u001b[0;32m    109\u001b[0m driver\u001b[38;5;241m.\u001b[39mclose()\n",
      "File \u001b[1;32m~\\AppData\\Roaming\\Python\\Python313\\site-packages\\plotly\\basedatatypes.py:3410\u001b[0m, in \u001b[0;36mBaseFigure.show\u001b[1;34m(self, *args, **kwargs)\u001b[0m\n\u001b[0;32m   3377\u001b[0m \u001b[38;5;250m\u001b[39m\u001b[38;5;124;03m\"\"\"\u001b[39;00m\n\u001b[0;32m   3378\u001b[0m \u001b[38;5;124;03mShow a figure using either the default renderer(s) or the renderer(s)\u001b[39;00m\n\u001b[0;32m   3379\u001b[0m \u001b[38;5;124;03mspecified by the renderer argument\u001b[39;00m\n\u001b[1;32m   (...)\u001b[0m\n\u001b[0;32m   3406\u001b[0m \u001b[38;5;124;03mNone\u001b[39;00m\n\u001b[0;32m   3407\u001b[0m \u001b[38;5;124;03m\"\"\"\u001b[39;00m\n\u001b[0;32m   3408\u001b[0m \u001b[38;5;28;01mimport\u001b[39;00m\u001b[38;5;250m \u001b[39m\u001b[38;5;21;01mplotly\u001b[39;00m\u001b[38;5;21;01m.\u001b[39;00m\u001b[38;5;21;01mio\u001b[39;00m\u001b[38;5;250m \u001b[39m\u001b[38;5;28;01mas\u001b[39;00m\u001b[38;5;250m \u001b[39m\u001b[38;5;21;01mpio\u001b[39;00m\n\u001b[1;32m-> 3410\u001b[0m \u001b[38;5;28;01mreturn\u001b[39;00m \u001b[43mpio\u001b[49m\u001b[38;5;241;43m.\u001b[39;49m\u001b[43mshow\u001b[49m\u001b[43m(\u001b[49m\u001b[38;5;28;43mself\u001b[39;49m\u001b[43m,\u001b[49m\u001b[43m \u001b[49m\u001b[38;5;241;43m*\u001b[39;49m\u001b[43margs\u001b[49m\u001b[43m,\u001b[49m\u001b[43m \u001b[49m\u001b[38;5;241;43m*\u001b[39;49m\u001b[38;5;241;43m*\u001b[39;49m\u001b[43mkwargs\u001b[49m\u001b[43m)\u001b[49m\n",
      "File \u001b[1;32m~\\AppData\\Roaming\\Python\\Python313\\site-packages\\plotly\\io\\_renderers.py:394\u001b[0m, in \u001b[0;36mshow\u001b[1;34m(fig, renderer, validate, **kwargs)\u001b[0m\n\u001b[0;32m    389\u001b[0m         \u001b[38;5;28;01mraise\u001b[39;00m \u001b[38;5;167;01mValueError\u001b[39;00m(\n\u001b[0;32m    390\u001b[0m             \u001b[38;5;124m\"\u001b[39m\u001b[38;5;124mMime type rendering requires ipython but it is not installed\u001b[39m\u001b[38;5;124m\"\u001b[39m\n\u001b[0;32m    391\u001b[0m         )\n\u001b[0;32m    393\u001b[0m     \u001b[38;5;28;01mif\u001b[39;00m \u001b[38;5;129;01mnot\u001b[39;00m nbformat \u001b[38;5;129;01mor\u001b[39;00m Version(nbformat\u001b[38;5;241m.\u001b[39m__version__) \u001b[38;5;241m<\u001b[39m Version(\u001b[38;5;124m\"\u001b[39m\u001b[38;5;124m4.2.0\u001b[39m\u001b[38;5;124m\"\u001b[39m):\n\u001b[1;32m--> 394\u001b[0m         \u001b[38;5;28;01mraise\u001b[39;00m \u001b[38;5;167;01mValueError\u001b[39;00m(\n\u001b[0;32m    395\u001b[0m             \u001b[38;5;124m\"\u001b[39m\u001b[38;5;124mMime type rendering requires nbformat>=4.2.0 but it is not installed\u001b[39m\u001b[38;5;124m\"\u001b[39m\n\u001b[0;32m    396\u001b[0m         )\n\u001b[0;32m    398\u001b[0m     ipython_display\u001b[38;5;241m.\u001b[39mdisplay(bundle, raw\u001b[38;5;241m=\u001b[39m\u001b[38;5;28;01mTrue\u001b[39;00m)\n\u001b[0;32m    400\u001b[0m \u001b[38;5;66;03m# external renderers\u001b[39;00m\n",
      "\u001b[1;31mValueError\u001b[0m: Mime type rendering requires nbformat>=4.2.0 but it is not installed"
     ]
    }
   ],
   "source": [
    "# # Retrieve data from Neo4j database\n",
    "# def get_nodes(tx):\n",
    "#     \"\"\"\n",
    "#     Retrieve all nodes with their GlobalId and IfcType properties.\n",
    "#     Returns a list of dictionaries.\n",
    "#     \"\"\"\n",
    "#     query = \"MATCH (n) RETURN n.GlobalId AS id, n.IfcType AS ifcType\"\n",
    "#     return [{\"id\": record[\"id\"], \"ifcType\": record[\"ifcType\"]} for record in tx.run(query)]\n",
    "\n",
    "# def get_edges(tx):\n",
    "#     \"\"\"\n",
    "#     Retrieve all relationships (edges) between nodes.\n",
    "#     This query returns edges using the GlobalId of both endpoints.\n",
    "#     \"\"\"\n",
    "#     query = \"MATCH (a)-[r]->(b) RETURN a.GlobalId AS source, b.GlobalId AS target\"\n",
    "#     return [{\"source\": record[\"source\"], \"target\": record[\"target\"]} for record in tx.run(query)]\n",
    "\n",
    "# with driver.session() as session:\n",
    "#     nodes_data = session.execute_read(get_nodes)\n",
    "#     edges = session.execute_read(get_edges)\n",
    "\n",
    "# G = nx.Graph()\n",
    "\n",
    "# # Add nodes with their IfcType as an attribute.\n",
    "# for node in nodes_data:\n",
    "#     G.add_node(node[\"id\"], ifcType=node[\"ifcType\"])\n",
    "\n",
    "# # Add edges if both nodes exist in the graph.\n",
    "# for edge in edges:\n",
    "#     source = edge[\"source\"]\n",
    "#     target = edge[\"target\"]\n",
    "#     if source in G.nodes and target in G.nodes:\n",
    "#         G.add_edge(source, target)\n",
    "\n",
    "# # Remove isolated nodes (nodes with no connections).\n",
    "# isolated_nodes = list(nx.isolates(G))\n",
    "# G.remove_nodes_from(isolated_nodes)\n",
    "\n",
    "# #  3D Layout for the Graph\n",
    "# pos = nx.spring_layout(G, dim=3, seed=42)\n",
    "\n",
    "# def get_color_for_ifc_type(ifc_type):\n",
    "#     \"\"\"\n",
    "#     Return a consistent color string for a given IfcType.\n",
    "#     This example uses the built-in hash to generate a color.\n",
    "#     \"\"\"\n",
    "#     # Use bitwise AND to ensure the hex value is within range.\n",
    "#     return f\"#{hash(ifc_type) & 0xFFFFFF:06x}\"\n",
    "\n",
    "# # Build edge traces in 3D.\n",
    "# edge_x, edge_y, edge_z = [], [], []\n",
    "# for edge in G.edges():\n",
    "#     x0, y0, z0 = pos[edge[0]]\n",
    "#     x1, y1, z1 = pos[edge[1]]\n",
    "#     edge_x.extend([x0, x1, None])\n",
    "#     edge_y.extend([y0, y1, None])\n",
    "#     edge_z.extend([z0, z1, None])\n",
    "\n",
    "# edge_trace = go.Scatter3d(\n",
    "#     x=edge_x, y=edge_y, z=edge_z,\n",
    "#     mode='lines',\n",
    "#     line=dict(color='red', width=2),\n",
    "#     hoverinfo='none'\n",
    "# )\n",
    "\n",
    "# # Build node traces in 3D.\n",
    "# node_x, node_y, node_z = [], [], []\n",
    "# node_colors = []  # To hold the color based on IfcType.\n",
    "# node_text = []   # Hover text for each node.\n",
    "# for node in G.nodes(data=True):\n",
    "#     nid = node[0]\n",
    "#     attr = node[1]\n",
    "#     x, y, z = pos[nid]\n",
    "#     node_x.append(x)\n",
    "#     node_y.append(y)\n",
    "#     node_z.append(z)\n",
    "#     # Use the node's IfcType for color coding.\n",
    "#     ifc_type = attr.get(\"ifcType\", \"Unknown\")\n",
    "#     node_colors.append(get_color_for_ifc_type(ifc_type))\n",
    "#     node_text.append(f\"GlobalId: {nid}<br>IfcType: {ifc_type}\")\n",
    "\n",
    "# node_trace = go.Scatter3d(\n",
    "#     x=node_x, y=node_y, z=node_z,\n",
    "#     mode='markers',\n",
    "#     marker=dict(\n",
    "#         size=6,\n",
    "#         color=node_colors,   # Each node gets its color based on its IfcType.\n",
    "#         line=dict(width=0)\n",
    "#     ),\n",
    "#     hoverinfo='text',\n",
    "#     text=node_text\n",
    "# )\n",
    "\n",
    "\n",
    "# fig = go.Figure(data=[edge_trace, node_trace],\n",
    "#                 layout=go.Layout(\n",
    "#                     title=dict(text=\"3D Graph Visualization from Neo4j\", font=dict(size=16)),\n",
    "#                     showlegend=False,\n",
    "#                     width=1200, height=800,\n",
    "#                     margin=dict(l=0, r=0, b=0, t=40),\n",
    "#                     scene=dict(\n",
    "#                         xaxis=dict(showbackground=True, showticklabels=True, title=''),\n",
    "#                         yaxis=dict(showbackground=True, showticklabels=True, title=''),\n",
    "#                         zaxis=dict(showbackground=True, showticklabels=True, title='')\n",
    "#                     )\n",
    "#                 ))\n",
    "# # fig.show()\n",
    "\n",
    "# driver.close()\n"
   ]
  },
  {
   "cell_type": "code",
   "execution_count": 45,
   "id": "78a75732",
   "metadata": {},
   "outputs": [
    {
     "name": "stdout",
     "output_type": "stream",
     "text": [
      "Defaulting to user installation because normal site-packages is not writeable\n",
      "Collecting nbformat\n",
      "  Downloading nbformat-5.10.4-py3-none-any.whl.metadata (3.6 kB)\n",
      "Collecting fastjsonschema>=2.15 (from nbformat)\n",
      "  Using cached fastjsonschema-2.21.1-py3-none-any.whl.metadata (2.2 kB)\n",
      "Requirement already satisfied: jsonschema>=2.6 in c:\\users\\scleb\\appdata\\roaming\\python\\python313\\site-packages (from nbformat) (4.23.0)\n",
      "Requirement already satisfied: jupyter-core!=5.0.*,>=4.12 in c:\\users\\scleb\\appdata\\roaming\\python\\python313\\site-packages (from nbformat) (5.7.2)\n",
      "Requirement already satisfied: traitlets>=5.1 in c:\\users\\scleb\\appdata\\roaming\\python\\python313\\site-packages (from nbformat) (5.14.3)\n",
      "Requirement already satisfied: attrs>=22.2.0 in c:\\users\\scleb\\appdata\\roaming\\python\\python313\\site-packages (from jsonschema>=2.6->nbformat) (23.2.0)\n",
      "Requirement already satisfied: jsonschema-specifications>=2023.03.6 in c:\\users\\scleb\\appdata\\roaming\\python\\python313\\site-packages (from jsonschema>=2.6->nbformat) (2024.10.1)\n",
      "Requirement already satisfied: referencing>=0.28.4 in c:\\users\\scleb\\appdata\\roaming\\python\\python313\\site-packages (from jsonschema>=2.6->nbformat) (0.36.1)\n",
      "Requirement already satisfied: rpds-py>=0.7.1 in c:\\users\\scleb\\appdata\\roaming\\python\\python313\\site-packages (from jsonschema>=2.6->nbformat) (0.22.3)\n",
      "Requirement already satisfied: platformdirs>=2.5 in c:\\users\\scleb\\appdata\\roaming\\python\\python313\\site-packages (from jupyter-core!=5.0.*,>=4.12->nbformat) (4.3.7)\n",
      "Requirement already satisfied: pywin32>=300 in c:\\users\\scleb\\appdata\\roaming\\python\\python313\\site-packages (from jupyter-core!=5.0.*,>=4.12->nbformat) (310)\n",
      "Downloading nbformat-5.10.4-py3-none-any.whl (78 kB)\n",
      "Using cached fastjsonschema-2.21.1-py3-none-any.whl (23 kB)\n",
      "Installing collected packages: fastjsonschema, nbformat\n",
      "Successfully installed fastjsonschema-2.21.1 nbformat-5.10.4\n"
     ]
    },
    {
     "name": "stderr",
     "output_type": "stream",
     "text": [
      "\n",
      "[notice] A new release of pip is available: 25.0.1 -> 25.1.1\n",
      "[notice] To update, run: python.exe -m pip install --upgrade pip\n"
     ]
    }
   ],
   "source": [
    "!pip install --upgrade nbformat"
   ]
  }
 ],
 "metadata": {
  "kernelspec": {
   "display_name": "Python 3",
   "language": "python",
   "name": "python3"
  },
  "language_info": {
   "codemirror_mode": {
    "name": "ipython",
    "version": 3
   },
   "file_extension": ".py",
   "mimetype": "text/x-python",
   "name": "python",
   "nbconvert_exporter": "python",
   "pygments_lexer": "ipython3",
   "version": "3.13.2"
  }
 },
 "nbformat": 4,
 "nbformat_minor": 5
}
